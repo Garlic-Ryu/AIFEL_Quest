{
 "cells": [
  {
   "cell_type": "markdown",
   "id": "b25e827b",
   "metadata": {},
   "source": [
    "# Linear Regression Model\n",
    "Build Linear Regression Model without API (ex. sklearn)  "
   ]
  },
  {
   "cell_type": "code",
   "execution_count": 55,
   "id": "fbd16105",
   "metadata": {},
   "outputs": [
    {
     "name": "stdout",
     "output_type": "stream",
     "text": [
      "df_X shape:  (442, 10)  df_X type:  <class 'pandas.core.frame.DataFrame'>\n",
      "df_y shape:  (442,)  df_y type:  <class 'pandas.core.series.Series'>\n",
      "X shape:  (442, 10)  df_X type:  <class 'numpy.ndarray'>\n",
      "y shape:  (442,)  df_y type:  <class 'numpy.ndarray'>\n"
     ]
    }
   ],
   "source": [
    "from sklearn.datasets import load_diabetes\n",
    "from sklearn.model_selection import train_test_split\n",
    "import numpy as np\n",
    "\n",
    "# load diabetes dataset via sklearn\n",
    "# Return type : Bunch\n",
    "# data {ndarray, dataframe} (442, 10)   -> df_X\n",
    "# target {ndarray, Series} (442,)   -> df_y \n",
    "diabetes = load_diabetes(as_frame=True)\n",
    "df_X = diabetes.data\n",
    "df_y = diabetes.target\n",
    "\n",
    "# Check the type and size of df_X & df_y\n",
    "print(\"df_X shape: \", df_X.shape,\" df_X type: \",type(df_X))\n",
    "print(\"df_y shape: \", df_y.shape,\" df_y type: \",type(df_y))\n",
    "\n",
    "# Change dataset type from dataframe to array\n",
    "X = df_X.values\n",
    "y = df_y.values\n",
    "\n",
    "# Check the type and size of X & y\n",
    "print(\"X shape: \", X.shape,\" df_X type: \",type(X))\n",
    "print(\"y shape: \", y.shape,\" df_y type: \",type(y))\n",
    "\n",
    "# Split dataset to train, test\n",
    "X_train, X_test, y_train, y_test = train_test_split(X, y, test_size=0.33)"
   ]
  },
  {
   "cell_type": "code",
   "execution_count": 56,
   "id": "ace28a5e",
   "metadata": {},
   "outputs": [],
   "source": [
    "# prepare W, b vector\n",
    "import numpy as np\n",
    "W = np.random.rand(10)\n",
    "b = np.random.rand()\n",
    "\n",
    "# model function\n",
    "# sklearn\n",
    "# model = LinearRegression()\n",
    "def model(X, W, b):\n",
    "    predictions = 0\n",
    "    for i in range(10):\n",
    "        predictions += X[:, i]* W[i]\n",
    "    predictions += b\n",
    "    return predictions\n",
    "\n",
    "# loss function - MSE\n",
    "def MSE(a, b):\n",
    "    return ((a - b) ** 2).mean()\n",
    "\n",
    "def loss(X, W, b, y):\n",
    "    predictions = model(X, W, b)\n",
    "    return MSE(y, predictions)\n",
    "\n",
    "# gradient\n",
    "def gradient(X, W, b, y):\n",
    "    N = len(y)\n",
    "    y_pred = model(X, W, b)\n",
    "    dW = 2/N * X.T.dot(y_pred - y)\n",
    "    db = 2 * (y_pred - y).mean()\n",
    "    return dW, db"
   ]
  },
  {
   "cell_type": "code",
   "execution_count": 57,
   "id": "806915df",
   "metadata": {},
   "outputs": [
    {
     "name": "stdout",
     "output_type": "stream",
     "text": [
      "Iteration 1000 : Loss 3451.0744\n",
      "Iteration 2000 : Loss 3053.0893\n",
      "Iteration 3000 : Loss 2912.2388\n",
      "Iteration 4000 : Loss 2852.3487\n",
      "Iteration 5000 : Loss 2824.1624\n",
      "Iteration 6000 : Loss 2809.6306\n",
      "Iteration 7000 : Loss 2801.5015\n",
      "Iteration 8000 : Loss 2796.6200\n",
      "Iteration 9000 : Loss 2793.5018\n",
      "Iteration 10000 : Loss 2791.3945\n"
     ]
    }
   ],
   "source": [
    "LEARNING_RATE = 0.1\n",
    "losses = []\n",
    "\n",
    "# training\n",
    "# model.fit( , )\n",
    "for i in range(1, 10001):\n",
    "    dW, db = gradient(X_train, W, b, y_train)\n",
    "    W -= LEARNING_RATE * dW\n",
    "    b -= LEARNING_RATE * db\n",
    "    L = loss(X_train, W, b, y_train)\n",
    "    losses.append(L)\n",
    "    if i % 1000 == 0:\n",
    "        print('Iteration %d : Loss %0.4f' % (i, L))"
   ]
  },
  {
   "cell_type": "code",
   "execution_count": 58,
   "id": "b9f88647",
   "metadata": {},
   "outputs": [
    {
     "data": {
      "image/png": "[encoded data removed]",
      "text/plain": [
       "<Figure size 432x288 with 1 Axes>"
      ]
     },
     "metadata": {
      "needs_background": "light"
     },
     "output_type": "display_data"
    }
   ],
   "source": [
    "import matplotlib.pyplot as plt\n",
    "plt.plot(losses)\n",
    "plt.show()"
   ]
  },
  {
   "cell_type": "code",
   "execution_count": 59,
   "id": "1e40c94c",
   "metadata": {},
   "outputs": [
    {
     "data": {
      "text/plain": [
       "3142.300171673319"
      ]
     },
     "execution_count": 59,
     "metadata": {},
     "output_type": "execute_result"
    }
   ],
   "source": [
    "prediction = model(X_test, W, b)\n",
    "mse = loss(X_test, W, b, y_test)\n",
    "mse"
   ]
  },
  {
   "cell_type": "code",
   "execution_count": 60,
   "id": "2ee4bb73",
   "metadata": {},
   "outputs": [
    {
     "data": {
      "image/png": "[encoded data removed]",
      "text/plain": [
       "<Figure size 432x288 with 1 Axes>"
      ]
     },
     "metadata": {
      "needs_background": "light"
     },
     "output_type": "display_data"
    }
   ],
   "source": [
    "import matplotlib.pyplot as plt\n",
    "\n",
    "plt.scatter(X_test[:, 0], y_test, label=\"true\")\n",
    "plt.scatter(X_test[:, 0], prediction, label='pred')\n",
    "plt.legend()\n",
    "plt.show()"
   ]
  }
 ],
 "metadata": {
  "kernelspec": {
   "display_name": "Python 3 (ipykernel)",
   "language": "python",
   "name": "python3"
  },
  "language_info": {
   "codemirror_mode": {
    "name": "ipython",
    "version": 3
   },
   "file_extension": ".py",
   "mimetype": "text/x-python",
   "name": "python",
   "nbconvert_exporter": "python",
   "pygments_lexer": "ipython3",
   "version": "3.9.7"
  }
 },
 "nbformat": 4,
 "nbformat_minor": 5
}
