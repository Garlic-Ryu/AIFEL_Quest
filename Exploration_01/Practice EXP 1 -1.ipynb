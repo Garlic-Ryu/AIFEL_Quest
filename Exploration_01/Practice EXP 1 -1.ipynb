{
 "cells": [
  {
   "cell_type": "code",
   "execution_count": 32,
   "id": "b883efe3",
   "metadata": {},
   "outputs": [
    {
     "data": {
      "text/plain": [
       "['anagrams',\n",
       " 'anscombe',\n",
       " 'attention',\n",
       " 'brain_networks',\n",
       " 'car_crashes',\n",
       " 'diamonds',\n",
       " 'dots',\n",
       " 'dowjones',\n",
       " 'exercise',\n",
       " 'flights',\n",
       " 'fmri',\n",
       " 'geyser',\n",
       " 'glue',\n",
       " 'healthexp',\n",
       " 'iris',\n",
       " 'mpg',\n",
       " 'penguins',\n",
       " 'planets',\n",
       " 'seaice',\n",
       " 'taxis',\n",
       " 'tips',\n",
       " 'titanic']"
      ]
     },
     "execution_count": 32,
     "metadata": {},
     "output_type": "execute_result"
    }
   ],
   "source": [
    "import seaborn as sns\n",
    "\n",
    "# retrieve sample dataset from seaborn package\n",
    "sns.get_dataset_names()"
   ]
  },
  {
   "cell_type": "code",
   "execution_count": 33,
   "id": "bb128d3f",
   "metadata": {},
   "outputs": [
    {
     "name": "stdout",
     "output_type": "stream",
     "text": [
      "(244, 7)\n"
     ]
    },
    {
     "data": {
      "text/html": [
       "<div>\n",
       "<style scoped>\n",
       "    .dataframe tbody tr th:only-of-type {\n",
       "        vertical-align: middle;\n",
       "    }\n",
       "\n",
       "    .dataframe tbody tr th {\n",
       "        vertical-align: top;\n",
       "    }\n",
       "\n",
       "    .dataframe thead th {\n",
       "        text-align: right;\n",
       "    }\n",
       "</style>\n",
       "<table border=\"1\" class=\"dataframe\">\n",
       "  <thead>\n",
       "    <tr style=\"text-align: right;\">\n",
       "      <th></th>\n",
       "      <th>total_bill</th>\n",
       "      <th>tip</th>\n",
       "      <th>sex</th>\n",
       "      <th>smoker</th>\n",
       "      <th>day</th>\n",
       "      <th>time</th>\n",
       "      <th>size</th>\n",
       "    </tr>\n",
       "  </thead>\n",
       "  <tbody>\n",
       "    <tr>\n",
       "      <th>0</th>\n",
       "      <td>16.99</td>\n",
       "      <td>1.01</td>\n",
       "      <td>Female</td>\n",
       "      <td>No</td>\n",
       "      <td>Sun</td>\n",
       "      <td>Dinner</td>\n",
       "      <td>2</td>\n",
       "    </tr>\n",
       "    <tr>\n",
       "      <th>1</th>\n",
       "      <td>10.34</td>\n",
       "      <td>1.66</td>\n",
       "      <td>Male</td>\n",
       "      <td>No</td>\n",
       "      <td>Sun</td>\n",
       "      <td>Dinner</td>\n",
       "      <td>3</td>\n",
       "    </tr>\n",
       "    <tr>\n",
       "      <th>2</th>\n",
       "      <td>21.01</td>\n",
       "      <td>3.50</td>\n",
       "      <td>Male</td>\n",
       "      <td>No</td>\n",
       "      <td>Sun</td>\n",
       "      <td>Dinner</td>\n",
       "      <td>3</td>\n",
       "    </tr>\n",
       "    <tr>\n",
       "      <th>3</th>\n",
       "      <td>23.68</td>\n",
       "      <td>3.31</td>\n",
       "      <td>Male</td>\n",
       "      <td>No</td>\n",
       "      <td>Sun</td>\n",
       "      <td>Dinner</td>\n",
       "      <td>2</td>\n",
       "    </tr>\n",
       "    <tr>\n",
       "      <th>4</th>\n",
       "      <td>24.59</td>\n",
       "      <td>3.61</td>\n",
       "      <td>Female</td>\n",
       "      <td>No</td>\n",
       "      <td>Sun</td>\n",
       "      <td>Dinner</td>\n",
       "      <td>4</td>\n",
       "    </tr>\n",
       "  </tbody>\n",
       "</table>\n",
       "</div>"
      ],
      "text/plain": [
       "   total_bill   tip     sex smoker  day    time  size\n",
       "0       16.99  1.01  Female     No  Sun  Dinner     2\n",
       "1       10.34  1.66    Male     No  Sun  Dinner     3\n",
       "2       21.01  3.50    Male     No  Sun  Dinner     3\n",
       "3       23.68  3.31    Male     No  Sun  Dinner     2\n",
       "4       24.59  3.61  Female     No  Sun  Dinner     4"
      ]
     },
     "execution_count": 33,
     "metadata": {},
     "output_type": "execute_result"
    }
   ],
   "source": [
    "# load 'tips' dataset\n",
    "tips = sns.load_dataset(\"tips\")\n",
    "\n",
    "# print tips shape & head\n",
    "print(tips.shape)\n",
    "tips.head()"
   ]
  },
  {
   "cell_type": "code",
   "execution_count": 34,
   "id": "8c9301ee",
   "metadata": {},
   "outputs": [
    {
     "data": {
      "text/html": [
       "<div>\n",
       "<style scoped>\n",
       "    .dataframe tbody tr th:only-of-type {\n",
       "        vertical-align: middle;\n",
       "    }\n",
       "\n",
       "    .dataframe tbody tr th {\n",
       "        vertical-align: top;\n",
       "    }\n",
       "\n",
       "    .dataframe thead th {\n",
       "        text-align: right;\n",
       "    }\n",
       "</style>\n",
       "<table border=\"1\" class=\"dataframe\">\n",
       "  <thead>\n",
       "    <tr style=\"text-align: right;\">\n",
       "      <th></th>\n",
       "      <th>total_bill</th>\n",
       "      <th>tip</th>\n",
       "      <th>size</th>\n",
       "      <th>sex_Male</th>\n",
       "      <th>sex_Female</th>\n",
       "      <th>smoker_Yes</th>\n",
       "      <th>smoker_No</th>\n",
       "      <th>day_Thur</th>\n",
       "      <th>day_Fri</th>\n",
       "      <th>day_Sat</th>\n",
       "      <th>day_Sun</th>\n",
       "      <th>time_Lunch</th>\n",
       "      <th>time_Dinner</th>\n",
       "    </tr>\n",
       "  </thead>\n",
       "  <tbody>\n",
       "    <tr>\n",
       "      <th>0</th>\n",
       "      <td>16.99</td>\n",
       "      <td>1.01</td>\n",
       "      <td>2</td>\n",
       "      <td>0</td>\n",
       "      <td>1</td>\n",
       "      <td>0</td>\n",
       "      <td>1</td>\n",
       "      <td>0</td>\n",
       "      <td>0</td>\n",
       "      <td>0</td>\n",
       "      <td>1</td>\n",
       "      <td>0</td>\n",
       "      <td>1</td>\n",
       "    </tr>\n",
       "    <tr>\n",
       "      <th>1</th>\n",
       "      <td>10.34</td>\n",
       "      <td>1.66</td>\n",
       "      <td>3</td>\n",
       "      <td>1</td>\n",
       "      <td>0</td>\n",
       "      <td>0</td>\n",
       "      <td>1</td>\n",
       "      <td>0</td>\n",
       "      <td>0</td>\n",
       "      <td>0</td>\n",
       "      <td>1</td>\n",
       "      <td>0</td>\n",
       "      <td>1</td>\n",
       "    </tr>\n",
       "    <tr>\n",
       "      <th>2</th>\n",
       "      <td>21.01</td>\n",
       "      <td>3.50</td>\n",
       "      <td>3</td>\n",
       "      <td>1</td>\n",
       "      <td>0</td>\n",
       "      <td>0</td>\n",
       "      <td>1</td>\n",
       "      <td>0</td>\n",
       "      <td>0</td>\n",
       "      <td>0</td>\n",
       "      <td>1</td>\n",
       "      <td>0</td>\n",
       "      <td>1</td>\n",
       "    </tr>\n",
       "    <tr>\n",
       "      <th>3</th>\n",
       "      <td>23.68</td>\n",
       "      <td>3.31</td>\n",
       "      <td>2</td>\n",
       "      <td>1</td>\n",
       "      <td>0</td>\n",
       "      <td>0</td>\n",
       "      <td>1</td>\n",
       "      <td>0</td>\n",
       "      <td>0</td>\n",
       "      <td>0</td>\n",
       "      <td>1</td>\n",
       "      <td>0</td>\n",
       "      <td>1</td>\n",
       "    </tr>\n",
       "    <tr>\n",
       "      <th>4</th>\n",
       "      <td>24.59</td>\n",
       "      <td>3.61</td>\n",
       "      <td>4</td>\n",
       "      <td>0</td>\n",
       "      <td>1</td>\n",
       "      <td>0</td>\n",
       "      <td>1</td>\n",
       "      <td>0</td>\n",
       "      <td>0</td>\n",
       "      <td>0</td>\n",
       "      <td>1</td>\n",
       "      <td>0</td>\n",
       "      <td>1</td>\n",
       "    </tr>\n",
       "  </tbody>\n",
       "</table>\n",
       "</div>"
      ],
      "text/plain": [
       "   total_bill   tip  size  sex_Male  sex_Female  smoker_Yes  smoker_No  \\\n",
       "0       16.99  1.01     2         0           1           0          1   \n",
       "1       10.34  1.66     3         1           0           0          1   \n",
       "2       21.01  3.50     3         1           0           0          1   \n",
       "3       23.68  3.31     2         1           0           0          1   \n",
       "4       24.59  3.61     4         0           1           0          1   \n",
       "\n",
       "   day_Thur  day_Fri  day_Sat  day_Sun  time_Lunch  time_Dinner  \n",
       "0         0        0        0        1           0            1  \n",
       "1         0        0        0        1           0            1  \n",
       "2         0        0        0        1           0            1  \n",
       "3         0        0        0        1           0            1  \n",
       "4         0        0        0        1           0            1  "
      ]
     },
     "execution_count": 34,
     "metadata": {},
     "output_type": "execute_result"
    }
   ],
   "source": [
    "import pandas as pd\n",
    "\n",
    "# one-hot encoding columns\n",
    "tips = pd.get_dummies(tips, columns=['sex', 'smoker', 'day', 'time'])\n",
    "tips.head()"
   ]
  },
  {
   "cell_type": "code",
   "execution_count": 35,
   "id": "7ecb7461",
   "metadata": {},
   "outputs": [
    {
     "name": "stdout",
     "output_type": "stream",
     "text": [
      "(244, 13)\n",
      "(244, 12) (244,)\n",
      "(195, 12) (195,)\n",
      "(49, 12) (49,)\n"
     ]
    }
   ],
   "source": [
    "# preprocessing dataset\n",
    "tips = tips[['total_bill', 'size', 'sex_Male', 'sex_Female', 'smoker_Yes', 'smoker_No',\n",
    "             'day_Thur', 'day_Fri', 'day_Sat', 'day_Sun', 'time_Lunch', 'time_Dinner', 'tip']]\n",
    "print(tips.shape)\n",
    "tips.head()\n",
    "\n",
    "X = tips[['total_bill', 'size', 'sex_Male', 'sex_Female', 'smoker_Yes', 'smoker_No',\n",
    "             'day_Thur', 'day_Fri', 'day_Sat', 'day_Sun', 'time_Lunch', 'time_Dinner']].values\n",
    "y = tips['tip'].values\n",
    "print(X.shape, y.shape)\n",
    "\n",
    "from sklearn.model_selection import train_test_split\n",
    "X_train, X_test, y_train, y_test = train_test_split(X, y, test_size=0.2, random_state=42)\n",
    "print(X_train.shape, y_train.shape)\n",
    "print(X_test.shape, y_test.shape)"
   ]
  },
  {
   "cell_type": "code",
   "execution_count": 36,
   "id": "72ee60fb",
   "metadata": {},
   "outputs": [],
   "source": [
    "# prepare W, b vector\n",
    "import numpy as np\n",
    "W = np.random.rand(12)\n",
    "b = np.random.rand()"
   ]
  },
  {
   "cell_type": "code",
   "execution_count": 37,
   "id": "58e0ff14",
   "metadata": {},
   "outputs": [],
   "source": [
    "# model function\n",
    "# sklearn\n",
    "# model = LinearRegression()\n",
    "def model(X, W, b):\n",
    "    predictions = 0\n",
    "    for i in range(12):\n",
    "        predictions += X[:, i]* W[i]\n",
    "    predictions += b\n",
    "    return predictions"
   ]
  },
  {
   "cell_type": "code",
   "execution_count": 38,
   "id": "c4235f9c",
   "metadata": {},
   "outputs": [],
   "source": [
    "# loss function - MSE\n",
    "def MSE(a, b):\n",
    "    return ((a - b) ** 2).mean()\n",
    "\n",
    "def loss(X, W, b, y):\n",
    "    predictions = model(X, W, b)\n",
    "    return MSE(y, predictions)"
   ]
  },
  {
   "cell_type": "code",
   "execution_count": 39,
   "id": "2902d1b9",
   "metadata": {},
   "outputs": [],
   "source": [
    "# gradient\n",
    "def gradient(X, W, b, y):\n",
    "    N = len(y)\n",
    "    y_pred = model(X, W, b)\n",
    "    dW = 2/N * X.T.dot(y_pred - y)\n",
    "    db = 2 * (y_pred - y).mean()\n",
    "    return dW, db"
   ]
  },
  {
   "cell_type": "code",
   "execution_count": 40,
   "id": "602f5ccc",
   "metadata": {},
   "outputs": [
    {
     "name": "stdout",
     "output_type": "stream",
     "text": [
      "dW: [586.42860439  70.82397614  17.02425923   8.40252161  10.18205505\n",
      "  15.24472578   5.69009307   1.80176574   9.49653341   8.43838861\n",
      "   6.13639169  19.29038914] dW shpae:  (12,)\n",
      "db: 25.42678083133037 db shpae:  ()\n"
     ]
    }
   ],
   "source": [
    "dW, db = gradient(X, W, b, y)\n",
    "print(\"dW:\", dW, \"dW shpae: \", dW.shape)\n",
    "print(\"db:\", db, \"db shpae: \", db.shape)"
   ]
  },
  {
   "cell_type": "code",
   "execution_count": 41,
   "id": "8806026b",
   "metadata": {},
   "outputs": [
    {
     "name": "stdout",
     "output_type": "stream",
     "text": [
      "Iteration 10 : Loss 25.1756\n",
      "Iteration 20 : Loss 4.7963\n",
      "Iteration 30 : Loss 2.2555\n",
      "Iteration 40 : Loss 1.9371\n",
      "Iteration 50 : Loss 1.8957\n",
      "Iteration 60 : Loss 1.8888\n",
      "Iteration 70 : Loss 1.8861\n",
      "Iteration 80 : Loss 1.8841\n",
      "Iteration 90 : Loss 1.8821\n",
      "Iteration 100 : Loss 1.8801\n",
      "Iteration 110 : Loss 1.8781\n",
      "Iteration 120 : Loss 1.8761\n",
      "Iteration 130 : Loss 1.8742\n",
      "Iteration 140 : Loss 1.8722\n",
      "Iteration 150 : Loss 1.8702\n",
      "Iteration 160 : Loss 1.8683\n",
      "Iteration 170 : Loss 1.8664\n",
      "Iteration 180 : Loss 1.8644\n",
      "Iteration 190 : Loss 1.8625\n",
      "Iteration 200 : Loss 1.8606\n",
      "Iteration 210 : Loss 1.8587\n",
      "Iteration 220 : Loss 1.8568\n",
      "Iteration 230 : Loss 1.8549\n",
      "Iteration 240 : Loss 1.8530\n",
      "Iteration 250 : Loss 1.8511\n",
      "Iteration 260 : Loss 1.8492\n",
      "Iteration 270 : Loss 1.8473\n",
      "Iteration 280 : Loss 1.8455\n",
      "Iteration 290 : Loss 1.8436\n",
      "Iteration 300 : Loss 1.8417\n",
      "Iteration 310 : Loss 1.8399\n",
      "Iteration 320 : Loss 1.8381\n",
      "Iteration 330 : Loss 1.8362\n",
      "Iteration 340 : Loss 1.8344\n",
      "Iteration 350 : Loss 1.8326\n",
      "Iteration 360 : Loss 1.8308\n",
      "Iteration 370 : Loss 1.8290\n",
      "Iteration 380 : Loss 1.8272\n",
      "Iteration 390 : Loss 1.8254\n",
      "Iteration 400 : Loss 1.8236\n",
      "Iteration 410 : Loss 1.8218\n",
      "Iteration 420 : Loss 1.8200\n",
      "Iteration 430 : Loss 1.8182\n",
      "Iteration 440 : Loss 1.8165\n",
      "Iteration 450 : Loss 1.8147\n",
      "Iteration 460 : Loss 1.8130\n",
      "Iteration 470 : Loss 1.8112\n",
      "Iteration 480 : Loss 1.8095\n",
      "Iteration 490 : Loss 1.8077\n",
      "Iteration 500 : Loss 1.8060\n",
      "Iteration 510 : Loss 1.8043\n",
      "Iteration 520 : Loss 1.8026\n",
      "Iteration 530 : Loss 1.8008\n",
      "Iteration 540 : Loss 1.7991\n",
      "Iteration 550 : Loss 1.7974\n",
      "Iteration 560 : Loss 1.7957\n",
      "Iteration 570 : Loss 1.7941\n",
      "Iteration 580 : Loss 1.7924\n",
      "Iteration 590 : Loss 1.7907\n",
      "Iteration 600 : Loss 1.7890\n",
      "Iteration 610 : Loss 1.7874\n",
      "Iteration 620 : Loss 1.7857\n",
      "Iteration 630 : Loss 1.7840\n",
      "Iteration 640 : Loss 1.7824\n",
      "Iteration 650 : Loss 1.7807\n",
      "Iteration 660 : Loss 1.7791\n",
      "Iteration 670 : Loss 1.7775\n",
      "Iteration 680 : Loss 1.7759\n",
      "Iteration 690 : Loss 1.7742\n",
      "Iteration 700 : Loss 1.7726\n",
      "Iteration 710 : Loss 1.7710\n",
      "Iteration 720 : Loss 1.7694\n",
      "Iteration 730 : Loss 1.7678\n",
      "Iteration 740 : Loss 1.7662\n",
      "Iteration 750 : Loss 1.7646\n",
      "Iteration 760 : Loss 1.7630\n",
      "Iteration 770 : Loss 1.7615\n",
      "Iteration 780 : Loss 1.7599\n",
      "Iteration 790 : Loss 1.7583\n",
      "Iteration 800 : Loss 1.7568\n",
      "Iteration 810 : Loss 1.7552\n",
      "Iteration 820 : Loss 1.7536\n",
      "Iteration 830 : Loss 1.7521\n",
      "Iteration 840 : Loss 1.7506\n",
      "Iteration 850 : Loss 1.7490\n",
      "Iteration 860 : Loss 1.7475\n",
      "Iteration 870 : Loss 1.7460\n",
      "Iteration 880 : Loss 1.7444\n",
      "Iteration 890 : Loss 1.7429\n",
      "Iteration 900 : Loss 1.7414\n",
      "Iteration 910 : Loss 1.7399\n",
      "Iteration 920 : Loss 1.7384\n",
      "Iteration 930 : Loss 1.7369\n",
      "Iteration 940 : Loss 1.7354\n",
      "Iteration 950 : Loss 1.7339\n",
      "Iteration 960 : Loss 1.7325\n",
      "Iteration 970 : Loss 1.7310\n",
      "Iteration 980 : Loss 1.7295\n",
      "Iteration 990 : Loss 1.7280\n",
      "Iteration 1000 : Loss 1.7266\n"
     ]
    }
   ],
   "source": [
    "LEARNING_RATE = 0.0001\n",
    "losses = []\n",
    "\n",
    "# training\n",
    "# model.fit( , )\n",
    "for i in range(1, 1001):\n",
    "    dW, db = gradient(X_train, W, b, y_train)\n",
    "    W -= LEARNING_RATE * dW\n",
    "    b -= LEARNING_RATE * db\n",
    "    L = loss(X_train, W, b, y_train)\n",
    "    losses.append(L)\n",
    "    if i % 10 == 0:\n",
    "        print('Iteration %d : Loss %0.4f' % (i, L))"
   ]
  },
  {
   "cell_type": "code",
   "execution_count": 42,
   "id": "885132a4",
   "metadata": {},
   "outputs": [
    {
     "data": {
      "image/png": "[encoded data removed]",
      "text/plain": [
       "<Figure size 432x288 with 1 Axes>"
      ]
     },
     "metadata": {
      "needs_background": "light"
     },
     "output_type": "display_data"
    }
   ],
   "source": [
    "import matplotlib.pyplot as plt\n",
    "plt.plot(losses)\n",
    "plt.show()"
   ]
  },
  {
   "cell_type": "code",
   "execution_count": 43,
   "id": "45da87aa",
   "metadata": {},
   "outputs": [
    {
     "data": {
      "text/plain": [
       "1.3358763626825927"
      ]
     },
     "execution_count": 43,
     "metadata": {},
     "output_type": "execute_result"
    }
   ],
   "source": [
    "# Apply model using test dataset\n",
    "\n",
    "prediction = model(X_test, W, b)\n",
    "mse = loss(X_test, W, b, y_test)\n",
    "mse"
   ]
  },
  {
   "cell_type": "code",
   "execution_count": 44,
   "id": "c5b5e951",
   "metadata": {},
   "outputs": [
    {
     "data": {
      "image/png": "[encoded data removed]",
      "text/plain": [
       "<Figure size 432x288 with 1 Axes>"
      ]
     },
     "metadata": {
      "needs_background": "light"
     },
     "output_type": "display_data"
    }
   ],
   "source": [
    "plt.scatter(X_test[:, 0], y_test, label='true')\n",
    "plt.scatter(X_test[:, 0], prediction, label='pred')\n",
    "plt.show()"
   ]
  }
 ],
 "metadata": {
  "kernelspec": {
   "display_name": "Python 3 (ipykernel)",
   "language": "python",
   "name": "python3"
  },
  "language_info": {
   "codemirror_mode": {
    "name": "ipython",
    "version": 3
   },
   "file_extension": ".py",
   "mimetype": "text/x-python",
   "name": "python",
   "nbconvert_exporter": "python",
   "pygments_lexer": "ipython3",
   "version": "3.9.7"
  }
 },
 "nbformat": 4,
 "nbformat_minor": 5
}
