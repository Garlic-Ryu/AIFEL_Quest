{
 "cells": [
  {
   "cell_type": "code",
   "execution_count": 1,
   "id": "58dc528c",
   "metadata": {},
   "outputs": [
    {
     "data": {
      "text/plain": [
       "['train.csv', 'test.csv', 'sampleSubmission.csv']"
      ]
     },
     "execution_count": 1,
     "metadata": {},
     "output_type": "execute_result"
    }
   ],
   "source": [
    "import os\n",
    "\n",
    "# Check the list of dataset\n",
    "os.listdir('/aiffel/data/data/bike-sharing-demand')"
   ]
  },
  {
   "cell_type": "code",
   "execution_count": 2,
   "id": "e2e0f914",
   "metadata": {},
   "outputs": [],
   "source": [
    "import pandas as pd\n",
    "\n",
    "# Read data\n",
    "train_data = pd.read_csv('/aiffel/data/data/bike-sharing-demand/train.csv')\n",
    "test_data = pd.read_csv('/aiffel/data/data/bike-sharing-demand/test.csv')\n",
    "test_data_y = pd.read_csv('/aiffel/data/data/bike-sharing-demand/sampleSubmission.csv')"
   ]
  },
  {
   "cell_type": "code",
   "execution_count": 3,
   "id": "1dfbfe32",
   "metadata": {},
   "outputs": [
    {
     "name": "stdout",
     "output_type": "stream",
     "text": [
      "<class 'pandas.core.frame.DataFrame'>\n",
      "(10886, 12)\n",
      "              datetime  season  holiday  workingday  weather  temp   atemp  \\\n",
      "0  2011-01-01 00:00:00       1        0           0        1  9.84  14.395   \n",
      "1  2011-01-01 01:00:00       1        0           0        1  9.02  13.635   \n",
      "2  2011-01-01 02:00:00       1        0           0        1  9.02  13.635   \n",
      "3  2011-01-01 03:00:00       1        0           0        1  9.84  14.395   \n",
      "4  2011-01-01 04:00:00       1        0           0        1  9.84  14.395   \n",
      "\n",
      "   humidity  windspeed  casual  registered  count  \n",
      "0        81        0.0       3          13     16  \n",
      "1        80        0.0       8          32     40  \n",
      "2        80        0.0       5          27     32  \n",
      "3        75        0.0       3          10     13  \n",
      "4        75        0.0       0           1      1  \n",
      "(6493, 9)\n",
      "              datetime  season  holiday  workingday  weather   temp   atemp  \\\n",
      "0  2011-01-20 00:00:00       1        0           1        1  10.66  11.365   \n",
      "1  2011-01-20 01:00:00       1        0           1        1  10.66  13.635   \n",
      "2  2011-01-20 02:00:00       1        0           1        1  10.66  13.635   \n",
      "3  2011-01-20 03:00:00       1        0           1        1  10.66  12.880   \n",
      "4  2011-01-20 04:00:00       1        0           1        1  10.66  12.880   \n",
      "\n",
      "   humidity  windspeed  \n",
      "0        56    26.0027  \n",
      "1        56     0.0000  \n",
      "2        56     0.0000  \n",
      "3        56    11.0014  \n",
      "4        56    11.0014  \n",
      "(6493, 2)\n",
      "              datetime  count\n",
      "0  2011-01-20 00:00:00      0\n",
      "1  2011-01-20 01:00:00      0\n",
      "2  2011-01-20 02:00:00      0\n",
      "3  2011-01-20 03:00:00      0\n",
      "4  2011-01-20 04:00:00      0\n"
     ]
    }
   ],
   "source": [
    "# Check the details of dataset\n",
    "print(type(train_data))\n",
    "print(train_data.shape)\n",
    "print(train_data.head())\n",
    "\n",
    "print(test_data.shape)\n",
    "print(test_data.head())\n",
    "\n",
    "print(test_data_y.shape)\n",
    "print(test_data_y.head())"
   ]
  },
  {
   "cell_type": "code",
   "execution_count": 4,
   "id": "72825f8a",
   "metadata": {},
   "outputs": [],
   "source": [
    "# Add columns using datatime column\n",
    "train_data['datetime'] = pd.to_datetime(train_data['datetime'])\n",
    "\n",
    "train_data['year'] = train_data['datetime'].apply(lambda x: x.year)\n",
    "train_data['month'] = train_data['datetime'].apply(lambda x: x.month)\n",
    "train_data['day'] = train_data['datetime'].apply(lambda x: x.day)\n",
    "train_data['hour'] = train_data['datetime'].apply(lambda x: x.hour)\n",
    "train_data['min'] = train_data['datetime'].apply(lambda x: x.minute)\n",
    "train_data['sec'] = train_data['datetime'].apply(lambda x: x.second)\n",
    "\n",
    "\n",
    "# Add columns using datatime column\n",
    "test_data['datetime'] = pd.to_datetime(test_data['datetime'])\n",
    "\n",
    "test_data['year'] = test_data['datetime'].apply(lambda x: x.year)\n",
    "test_data['month'] = test_data['datetime'].apply(lambda x: x.month)\n",
    "test_data['day'] = test_data['datetime'].apply(lambda x: x.day)\n",
    "test_data['hour'] = test_data['datetime'].apply(lambda x: x.hour)\n",
    "test_data['min'] = test_data['datetime'].apply(lambda x: x.minute)\n",
    "test_data['sec'] = test_data['datetime'].apply(lambda x: x.second)"
   ]
  },
  {
   "cell_type": "code",
   "execution_count": 5,
   "id": "c6300e6a",
   "metadata": {},
   "outputs": [
    {
     "data": {
      "text/plain": [
       "<AxesSubplot:xlabel='sec', ylabel='count'>"
      ]
     },
     "execution_count": 5,
     "metadata": {},
     "output_type": "execute_result"
    },
    {
     "data": {
      "image/png": "[encoded data removed]",
      "text/plain": [
       "<Figure size 864x576 with 6 Axes>"
      ]
     },
     "metadata": {
      "needs_background": "light"
     },
     "output_type": "display_data"
    }
   ],
   "source": [
    "# Visualization of data columns data\n",
    "import seaborn as sns\n",
    "import matplotlib.pyplot as plt\n",
    "\n",
    "plt.subplots(2, 3, figsize=(12, 8))\n",
    "\n",
    "plt.subplot(231)\n",
    "sns.countplot(x = 'year', data = train_data)\n",
    "plt.subplot(232)\n",
    "sns.countplot(x = 'month', data = train_data)\n",
    "plt.subplot(233)\n",
    "sns.countplot(x = 'day', data = train_data)\n",
    "plt.subplot(234)\n",
    "sns.countplot(x = 'hour', data = train_data)\n",
    "plt.subplot(235)\n",
    "sns.countplot(x = 'min', data = train_data)\n",
    "plt.subplot(236)\n",
    "sns.countplot(x = 'sec', data = train_data)"
   ]
  },
  {
   "cell_type": "code",
   "execution_count": 6,
   "id": "5d4224fd",
   "metadata": {},
   "outputs": [
    {
     "name": "stdout",
     "output_type": "stream",
     "text": [
      "             datetime  holiday  workingday  temp   atemp  humidity  windspeed  \\\n",
      "0 2011-01-01 00:00:00        0           0  9.84  14.395        81        0.0   \n",
      "1 2011-01-01 01:00:00        0           0  9.02  13.635        80        0.0   \n",
      "2 2011-01-01 02:00:00        0           0  9.02  13.635        80        0.0   \n",
      "3 2011-01-01 03:00:00        0           0  9.84  14.395        75        0.0   \n",
      "4 2011-01-01 04:00:00        0           0  9.84  14.395        75        0.0   \n",
      "\n",
      "   casual  registered  count  ...  hour_14  hour_15  hour_16  hour_17  \\\n",
      "0       3          13     16  ...        0        0        0        0   \n",
      "1       8          32     40  ...        0        0        0        0   \n",
      "2       5          27     32  ...        0        0        0        0   \n",
      "3       3          10     13  ...        0        0        0        0   \n",
      "4       0           1      1  ...        0        0        0        0   \n",
      "\n",
      "   hour_18  hour_19  hour_20  hour_21  hour_22  hour_23  \n",
      "0        0        0        0        0        0        0  \n",
      "1        0        0        0        0        0        0  \n",
      "2        0        0        0        0        0        0  \n",
      "3        0        0        0        0        0        0  \n",
      "4        0        0        0        0        0        0  \n",
      "\n",
      "[5 rows x 47 columns]\n",
      "             datetime  holiday  workingday   temp   atemp  humidity  \\\n",
      "0 2011-01-20 00:00:00        0           1  10.66  11.365        56   \n",
      "1 2011-01-20 01:00:00        0           1  10.66  13.635        56   \n",
      "2 2011-01-20 02:00:00        0           1  10.66  13.635        56   \n",
      "3 2011-01-20 03:00:00        0           1  10.66  12.880        56   \n",
      "4 2011-01-20 04:00:00        0           1  10.66  12.880        56   \n",
      "\n",
      "   windspeed  year  month  day  ...  hour_14  hour_15  hour_16  hour_17  \\\n",
      "0    26.0027  2011      1   20  ...        0        0        0        0   \n",
      "1     0.0000  2011      1   20  ...        0        0        0        0   \n",
      "2     0.0000  2011      1   20  ...        0        0        0        0   \n",
      "3    11.0014  2011      1   20  ...        0        0        0        0   \n",
      "4    11.0014  2011      1   20  ...        0        0        0        0   \n",
      "\n",
      "   hour_18  hour_19  hour_20  hour_21  hour_22  hour_23  \n",
      "0        0        0        0        0        0        0  \n",
      "1        0        0        0        0        0        0  \n",
      "2        0        0        0        0        0        0  \n",
      "3        0        0        0        0        0        0  \n",
      "4        0        0        0        0        0        0  \n",
      "\n",
      "[5 rows x 44 columns]\n"
     ]
    }
   ],
   "source": [
    "#one-hot encoding\n",
    "train_data = pd.get_dummies(train_data, columns=['weather'], prefix='weather')\n",
    "test_data = pd.get_dummies(test_data, columns=['weather'], prefix='weather')\n",
    "\n",
    "train_data = pd.get_dummies(train_data, columns=['season'], prefix='season')\n",
    "test_data = pd.get_dummies(test_data, columns=['season'], prefix='season')\n",
    "\n",
    "train_data = pd.get_dummies(train_data, columns=['hour'], prefix='hour')\n",
    "test_data = pd.get_dummies(test_data, columns=['hour'], prefix='hour')\n",
    "\n",
    "# check the data\n",
    "print(train_data.head())\n",
    "print(test_data.head())"
   ]
  },
  {
   "cell_type": "code",
   "execution_count": 7,
   "id": "e02523fa",
   "metadata": {},
   "outputs": [
    {
     "name": "stdout",
     "output_type": "stream",
     "text": [
      "   holiday  workingday  temp   atemp  humidity  windspeed  count  month  day  \\\n",
      "0        0           0  9.84  14.395        81        0.0     16      1    1   \n",
      "1        0           0  9.02  13.635        80        0.0     40      1    1   \n",
      "2        0           0  9.02  13.635        80        0.0     32      1    1   \n",
      "3        0           0  9.84  14.395        75        0.0     13      1    1   \n",
      "4        0           0  9.84  14.395        75        0.0      1      1    1   \n",
      "\n",
      "   weather_1  ...  hour_14  hour_15  hour_16  hour_17  hour_18  hour_19  \\\n",
      "0          1  ...        0        0        0        0        0        0   \n",
      "1          1  ...        0        0        0        0        0        0   \n",
      "2          1  ...        0        0        0        0        0        0   \n",
      "3          1  ...        0        0        0        0        0        0   \n",
      "4          1  ...        0        0        0        0        0        0   \n",
      "\n",
      "   hour_20  hour_21  hour_22  hour_23  \n",
      "0        0        0        0        0  \n",
      "1        0        0        0        0  \n",
      "2        0        0        0        0  \n",
      "3        0        0        0        0  \n",
      "4        0        0        0        0  \n",
      "\n",
      "[5 rows x 41 columns]\n",
      "   holiday  workingday   temp   atemp  humidity  windspeed  month  day  \\\n",
      "0        0           1  10.66  11.365        56    26.0027      1   20   \n",
      "1        0           1  10.66  13.635        56     0.0000      1   20   \n",
      "2        0           1  10.66  13.635        56     0.0000      1   20   \n",
      "3        0           1  10.66  12.880        56    11.0014      1   20   \n",
      "4        0           1  10.66  12.880        56    11.0014      1   20   \n",
      "\n",
      "   weather_1  weather_2  ...  hour_14  hour_15  hour_16  hour_17  hour_18  \\\n",
      "0          1          0  ...        0        0        0        0        0   \n",
      "1          1          0  ...        0        0        0        0        0   \n",
      "2          1          0  ...        0        0        0        0        0   \n",
      "3          1          0  ...        0        0        0        0        0   \n",
      "4          1          0  ...        0        0        0        0        0   \n",
      "\n",
      "   hour_19  hour_20  hour_21  hour_22  hour_23  \n",
      "0        0        0        0        0        0  \n",
      "1        0        0        0        0        0  \n",
      "2        0        0        0        0        0  \n",
      "3        0        0        0        0        0  \n",
      "4        0        0        0        0        0  \n",
      "\n",
      "[5 rows x 40 columns]\n"
     ]
    }
   ],
   "source": [
    "# dropout columns\n",
    "train_data = train_data.drop(['year','min','sec','datetime', 'casual', 'registered'], axis=1)\n",
    "test_data = test_data.drop(['year','min','sec','datetime'], axis=1)\n",
    "\n",
    "# check the data\n",
    "print(train_data.head())\n",
    "print(test_data.head())"
   ]
  },
  {
   "cell_type": "code",
   "execution_count": 8,
   "id": "f3181d3d",
   "metadata": {},
   "outputs": [],
   "source": [
    "# set count column - labeling\n",
    "# set X_train\n",
    "y_train = train_data['count'].values\n",
    "X_train = train_data.drop(['count'], axis=1).values\n",
    "\n",
    "# set X_test & y_test\n",
    "X_test  = test_data.values\n",
    "y_test = test_data_y['count'].values\n"
   ]
  },
  {
   "cell_type": "code",
   "execution_count": 12,
   "id": "23561439",
   "metadata": {},
   "outputs": [
    {
     "name": "stdout",
     "output_type": "stream",
     "text": [
      "(6493,)\n"
     ]
    }
   ],
   "source": [
    "from sklearn.linear_model import LinearRegression\n",
    "\n",
    "model = LinearRegression()\n",
    "model.fit(X_train, y_train)\n",
    "\n",
    "predictions = model.predict(X_test)\n",
    "print(predictions.shape)"
   ]
  },
  {
   "cell_type": "code",
   "execution_count": 10,
   "id": "96411a4d",
   "metadata": {},
   "outputs": [
    {
     "name": "stdout",
     "output_type": "stream",
     "text": [
      "MSE : 60077.767 / RMSE : 245.108\n"
     ]
    }
   ],
   "source": [
    "from sklearn.metrics import mean_squared_error\n",
    "mse = mean_squared_error(y_test, predictions)\n",
    "rmse = mean_squared_error(y_test, predictions)**0.5\n",
    "print(f\"MSE : {mse:.3f} / RMSE : {rmse:.3f}\")"
   ]
  },
  {
   "cell_type": "code",
   "execution_count": 11,
   "id": "180bc95a",
   "metadata": {},
   "outputs": [
    {
     "ename": "ValueError",
     "evalue": "x and y must be the same size",
     "output_type": "error",
     "traceback": [
      "\u001b[0;31m---------------------------------------------------------------------------\u001b[0m",
      "\u001b[0;31mValueError\u001b[0m                                Traceback (most recent call last)",
      "\u001b[0;32m/tmp/ipykernel_325/3626299059.py\u001b[0m in \u001b[0;36m<module>\u001b[0;34m\u001b[0m\n\u001b[1;32m      1\u001b[0m \u001b[0mplt\u001b[0m\u001b[0;34m.\u001b[0m\u001b[0mscatter\u001b[0m\u001b[0;34m(\u001b[0m\u001b[0mtrain_data\u001b[0m\u001b[0;34m[\u001b[0m\u001b[0;34m'temp'\u001b[0m\u001b[0;34m]\u001b[0m\u001b[0;34m,\u001b[0m \u001b[0my_train\u001b[0m\u001b[0;34m,\u001b[0m \u001b[0mlabel\u001b[0m\u001b[0;34m=\u001b[0m\u001b[0;34m'true'\u001b[0m\u001b[0;34m)\u001b[0m\u001b[0;34m\u001b[0m\u001b[0;34m\u001b[0m\u001b[0m\n\u001b[0;32m----> 2\u001b[0;31m \u001b[0mplt\u001b[0m\u001b[0;34m.\u001b[0m\u001b[0mscatter\u001b[0m\u001b[0;34m(\u001b[0m\u001b[0mtrain_data\u001b[0m\u001b[0;34m[\u001b[0m\u001b[0;34m'temp'\u001b[0m\u001b[0;34m]\u001b[0m\u001b[0;34m,\u001b[0m \u001b[0mpredictions\u001b[0m\u001b[0;34m,\u001b[0m \u001b[0mlabel\u001b[0m\u001b[0;34m=\u001b[0m\u001b[0;34m'pred'\u001b[0m\u001b[0;34m)\u001b[0m\u001b[0;34m\u001b[0m\u001b[0;34m\u001b[0m\u001b[0m\n\u001b[0m",
      "\u001b[0;32m/opt/conda/lib/python3.9/site-packages/matplotlib/pyplot.py\u001b[0m in \u001b[0;36mscatter\u001b[0;34m(x, y, s, c, marker, cmap, norm, vmin, vmax, alpha, linewidths, edgecolors, plotnonfinite, data, **kwargs)\u001b[0m\n\u001b[1;32m   3066\u001b[0m         \u001b[0mvmin\u001b[0m\u001b[0;34m=\u001b[0m\u001b[0;32mNone\u001b[0m\u001b[0;34m,\u001b[0m \u001b[0mvmax\u001b[0m\u001b[0;34m=\u001b[0m\u001b[0;32mNone\u001b[0m\u001b[0;34m,\u001b[0m \u001b[0malpha\u001b[0m\u001b[0;34m=\u001b[0m\u001b[0;32mNone\u001b[0m\u001b[0;34m,\u001b[0m \u001b[0mlinewidths\u001b[0m\u001b[0;34m=\u001b[0m\u001b[0;32mNone\u001b[0m\u001b[0;34m,\u001b[0m \u001b[0;34m*\u001b[0m\u001b[0;34m,\u001b[0m\u001b[0;34m\u001b[0m\u001b[0;34m\u001b[0m\u001b[0m\n\u001b[1;32m   3067\u001b[0m         edgecolors=None, plotnonfinite=False, data=None, **kwargs):\n\u001b[0;32m-> 3068\u001b[0;31m     __ret = gca().scatter(\n\u001b[0m\u001b[1;32m   3069\u001b[0m         \u001b[0mx\u001b[0m\u001b[0;34m,\u001b[0m \u001b[0my\u001b[0m\u001b[0;34m,\u001b[0m \u001b[0ms\u001b[0m\u001b[0;34m=\u001b[0m\u001b[0ms\u001b[0m\u001b[0;34m,\u001b[0m \u001b[0mc\u001b[0m\u001b[0;34m=\u001b[0m\u001b[0mc\u001b[0m\u001b[0;34m,\u001b[0m \u001b[0mmarker\u001b[0m\u001b[0;34m=\u001b[0m\u001b[0mmarker\u001b[0m\u001b[0;34m,\u001b[0m \u001b[0mcmap\u001b[0m\u001b[0;34m=\u001b[0m\u001b[0mcmap\u001b[0m\u001b[0;34m,\u001b[0m \u001b[0mnorm\u001b[0m\u001b[0;34m=\u001b[0m\u001b[0mnorm\u001b[0m\u001b[0;34m,\u001b[0m\u001b[0;34m\u001b[0m\u001b[0;34m\u001b[0m\u001b[0m\n\u001b[1;32m   3070\u001b[0m         \u001b[0mvmin\u001b[0m\u001b[0;34m=\u001b[0m\u001b[0mvmin\u001b[0m\u001b[0;34m,\u001b[0m \u001b[0mvmax\u001b[0m\u001b[0;34m=\u001b[0m\u001b[0mvmax\u001b[0m\u001b[0;34m,\u001b[0m \u001b[0malpha\u001b[0m\u001b[0;34m=\u001b[0m\u001b[0malpha\u001b[0m\u001b[0;34m,\u001b[0m \u001b[0mlinewidths\u001b[0m\u001b[0;34m=\u001b[0m\u001b[0mlinewidths\u001b[0m\u001b[0;34m,\u001b[0m\u001b[0;34m\u001b[0m\u001b[0;34m\u001b[0m\u001b[0m\n",
      "\u001b[0;32m/opt/conda/lib/python3.9/site-packages/matplotlib/__init__.py\u001b[0m in \u001b[0;36minner\u001b[0;34m(ax, data, *args, **kwargs)\u001b[0m\n\u001b[1;32m   1359\u001b[0m     \u001b[0;32mdef\u001b[0m \u001b[0minner\u001b[0m\u001b[0;34m(\u001b[0m\u001b[0max\u001b[0m\u001b[0;34m,\u001b[0m \u001b[0;34m*\u001b[0m\u001b[0margs\u001b[0m\u001b[0;34m,\u001b[0m \u001b[0mdata\u001b[0m\u001b[0;34m=\u001b[0m\u001b[0;32mNone\u001b[0m\u001b[0;34m,\u001b[0m \u001b[0;34m**\u001b[0m\u001b[0mkwargs\u001b[0m\u001b[0;34m)\u001b[0m\u001b[0;34m:\u001b[0m\u001b[0;34m\u001b[0m\u001b[0;34m\u001b[0m\u001b[0m\n\u001b[1;32m   1360\u001b[0m         \u001b[0;32mif\u001b[0m \u001b[0mdata\u001b[0m \u001b[0;32mis\u001b[0m \u001b[0;32mNone\u001b[0m\u001b[0;34m:\u001b[0m\u001b[0;34m\u001b[0m\u001b[0;34m\u001b[0m\u001b[0m\n\u001b[0;32m-> 1361\u001b[0;31m             \u001b[0;32mreturn\u001b[0m \u001b[0mfunc\u001b[0m\u001b[0;34m(\u001b[0m\u001b[0max\u001b[0m\u001b[0;34m,\u001b[0m \u001b[0;34m*\u001b[0m\u001b[0mmap\u001b[0m\u001b[0;34m(\u001b[0m\u001b[0msanitize_sequence\u001b[0m\u001b[0;34m,\u001b[0m \u001b[0margs\u001b[0m\u001b[0;34m)\u001b[0m\u001b[0;34m,\u001b[0m \u001b[0;34m**\u001b[0m\u001b[0mkwargs\u001b[0m\u001b[0;34m)\u001b[0m\u001b[0;34m\u001b[0m\u001b[0;34m\u001b[0m\u001b[0m\n\u001b[0m\u001b[1;32m   1362\u001b[0m \u001b[0;34m\u001b[0m\u001b[0m\n\u001b[1;32m   1363\u001b[0m         \u001b[0mbound\u001b[0m \u001b[0;34m=\u001b[0m \u001b[0mnew_sig\u001b[0m\u001b[0;34m.\u001b[0m\u001b[0mbind\u001b[0m\u001b[0;34m(\u001b[0m\u001b[0max\u001b[0m\u001b[0;34m,\u001b[0m \u001b[0;34m*\u001b[0m\u001b[0margs\u001b[0m\u001b[0;34m,\u001b[0m \u001b[0;34m**\u001b[0m\u001b[0mkwargs\u001b[0m\u001b[0;34m)\u001b[0m\u001b[0;34m\u001b[0m\u001b[0;34m\u001b[0m\u001b[0m\n",
      "\u001b[0;32m/opt/conda/lib/python3.9/site-packages/matplotlib/axes/_axes.py\u001b[0m in \u001b[0;36mscatter\u001b[0;34m(self, x, y, s, c, marker, cmap, norm, vmin, vmax, alpha, linewidths, edgecolors, plotnonfinite, **kwargs)\u001b[0m\n\u001b[1;32m   4496\u001b[0m         \u001b[0my\u001b[0m \u001b[0;34m=\u001b[0m \u001b[0mnp\u001b[0m\u001b[0;34m.\u001b[0m\u001b[0mma\u001b[0m\u001b[0;34m.\u001b[0m\u001b[0mravel\u001b[0m\u001b[0;34m(\u001b[0m\u001b[0my\u001b[0m\u001b[0;34m)\u001b[0m\u001b[0;34m\u001b[0m\u001b[0;34m\u001b[0m\u001b[0m\n\u001b[1;32m   4497\u001b[0m         \u001b[0;32mif\u001b[0m \u001b[0mx\u001b[0m\u001b[0;34m.\u001b[0m\u001b[0msize\u001b[0m \u001b[0;34m!=\u001b[0m \u001b[0my\u001b[0m\u001b[0;34m.\u001b[0m\u001b[0msize\u001b[0m\u001b[0;34m:\u001b[0m\u001b[0;34m\u001b[0m\u001b[0;34m\u001b[0m\u001b[0m\n\u001b[0;32m-> 4498\u001b[0;31m             \u001b[0;32mraise\u001b[0m \u001b[0mValueError\u001b[0m\u001b[0;34m(\u001b[0m\u001b[0;34m\"x and y must be the same size\"\u001b[0m\u001b[0;34m)\u001b[0m\u001b[0;34m\u001b[0m\u001b[0;34m\u001b[0m\u001b[0m\n\u001b[0m\u001b[1;32m   4499\u001b[0m \u001b[0;34m\u001b[0m\u001b[0m\n\u001b[1;32m   4500\u001b[0m         \u001b[0;32mif\u001b[0m \u001b[0ms\u001b[0m \u001b[0;32mis\u001b[0m \u001b[0;32mNone\u001b[0m\u001b[0;34m:\u001b[0m\u001b[0;34m\u001b[0m\u001b[0;34m\u001b[0m\u001b[0m\n",
      "\u001b[0;31mValueError\u001b[0m: x and y must be the same size"
     ]
    },
    {
     "data": {
      "image/png": "[encoded data removed]",
      "text/plain": [
       "<Figure size 432x288 with 1 Axes>"
      ]
     },
     "metadata": {
      "needs_background": "light"
     },
     "output_type": "display_data"
    }
   ],
   "source": [
    "plt.scatter(train_data['temp'], y_train, label='true')\n",
    "plt.scatter(train_data['temp'], predictions, label='pred')"
   ]
  }
 ],
 "metadata": {
  "kernelspec": {
   "display_name": "Python 3 (ipykernel)",
   "language": "python",
   "name": "python3"
  },
  "language_info": {
   "codemirror_mode": {
    "name": "ipython",
    "version": 3
   },
   "file_extension": ".py",
   "mimetype": "text/x-python",
   "name": "python",
   "nbconvert_exporter": "python",
   "pygments_lexer": "ipython3",
   "version": "3.9.7"
  }
 },
 "nbformat": 4,
 "nbformat_minor": 5
}
