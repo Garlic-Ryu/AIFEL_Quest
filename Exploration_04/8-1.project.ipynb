{
 "cells": [
  {
   "cell_type": "code",
   "execution_count": 1,
   "id": "a6367a77",
   "metadata": {},
   "outputs": [],
   "source": [
    "import pandas as pd\n",
    "import konlpy\n",
    "import gensim\n",
    "import tensorflow as tf\n",
    "\n",
    "from konlpy.tag import Mecab\n",
    "import numpy as np\n",
    "from collections import Counter"
   ]
  },
  {
   "cell_type": "markdown",
   "id": "80b5aab7",
   "metadata": {},
   "source": [
    "# 1. Upload Data"
   ]
  },
  {
   "cell_type": "code",
   "execution_count": 2,
   "id": "a52bb84a",
   "metadata": {},
   "outputs": [
    {
     "data": {
      "text/html": [
       "<div>\n",
       "<style scoped>\n",
       "    .dataframe tbody tr th:only-of-type {\n",
       "        vertical-align: middle;\n",
       "    }\n",
       "\n",
       "    .dataframe tbody tr th {\n",
       "        vertical-align: top;\n",
       "    }\n",
       "\n",
       "    .dataframe thead th {\n",
       "        text-align: right;\n",
       "    }\n",
       "</style>\n",
       "<table border=\"1\" class=\"dataframe\">\n",
       "  <thead>\n",
       "    <tr style=\"text-align: right;\">\n",
       "      <th></th>\n",
       "      <th>id</th>\n",
       "      <th>document</th>\n",
       "      <th>label</th>\n",
       "    </tr>\n",
       "  </thead>\n",
       "  <tbody>\n",
       "    <tr>\n",
       "      <th>0</th>\n",
       "      <td>9976970</td>\n",
       "      <td>아 더빙.. 진짜 짜증나네요 목소리</td>\n",
       "      <td>0</td>\n",
       "    </tr>\n",
       "    <tr>\n",
       "      <th>1</th>\n",
       "      <td>3819312</td>\n",
       "      <td>흠...포스터보고 초딩영화줄....오버연기조차 가볍지 않구나</td>\n",
       "      <td>1</td>\n",
       "    </tr>\n",
       "    <tr>\n",
       "      <th>2</th>\n",
       "      <td>10265843</td>\n",
       "      <td>너무재밓었다그래서보는것을추천한다</td>\n",
       "      <td>0</td>\n",
       "    </tr>\n",
       "    <tr>\n",
       "      <th>3</th>\n",
       "      <td>9045019</td>\n",
       "      <td>교도소 이야기구먼 ..솔직히 재미는 없다..평점 조정</td>\n",
       "      <td>0</td>\n",
       "    </tr>\n",
       "    <tr>\n",
       "      <th>4</th>\n",
       "      <td>6483659</td>\n",
       "      <td>사이몬페그의 익살스런 연기가 돋보였던 영화!스파이더맨에서 늙어보이기만 했던 커스틴 ...</td>\n",
       "      <td>1</td>\n",
       "    </tr>\n",
       "  </tbody>\n",
       "</table>\n",
       "</div>"
      ],
      "text/plain": [
       "         id                                           document  label\n",
       "0   9976970                                아 더빙.. 진짜 짜증나네요 목소리      0\n",
       "1   3819312                  흠...포스터보고 초딩영화줄....오버연기조차 가볍지 않구나      1\n",
       "2  10265843                                  너무재밓었다그래서보는것을추천한다      0\n",
       "3   9045019                      교도소 이야기구먼 ..솔직히 재미는 없다..평점 조정      0\n",
       "4   6483659  사이몬페그의 익살스런 연기가 돋보였던 영화!스파이더맨에서 늙어보이기만 했던 커스틴 ...      1"
      ]
     },
     "execution_count": 2,
     "metadata": {},
     "output_type": "execute_result"
    }
   ],
   "source": [
    "train_data = pd.read_table('sentiment_classification/data/ratings_train.txt')\n",
    "test_data = pd.read_table('sentiment_classification/data/ratings_test.txt')\n",
    "\n",
    "train_data.head()"
   ]
  },
  {
   "cell_type": "markdown",
   "id": "5693b445",
   "metadata": {},
   "source": [
    "# 2. Define load_data( ) & Encoding, Decoding functions\n",
    "- [ ] 데이터의 중복 제거\n",
    "- [ ] NaN 결측치 제거\n",
    "- [ ] 한국어 토크나이저로 토큰화\n",
    "- [ ] 불용어(Stopwords) 제거\n",
    "- [ ] 사전word_to_index 구성\n",
    "- [ ] 텍스트 스트링을 사전 인덱스 스트링으로 변환\n",
    "- [ ] X_train, y_train, X_test, y_test, word_to_index 리턴"
   ]
  },
  {
   "cell_type": "markdown",
   "id": "99cef416",
   "metadata": {},
   "source": [
    "tokenizer = Mecab()\n",
    "stopwords = ['의','가','이','은','들','는','좀','잘','걍','과','도','를','으로','자','에','와','한','하다']\n",
    "\n",
    "def load_data(train_data, test_data, num_words=10000):\n",
    "    #Remove duplicated rows\n",
    "    train_data.drop_duplicates(subset=['document'], inplace=True)\n",
    "    test_data.drop_duplicates(subset=['document'], inplace=True)\n",
    "    \n",
    "    #Remove NaN - missing value\n",
    "    train_data = train_data.dropna(how = 'any') \n",
    "    test_data = test_data.dropna(how = 'any')\n",
    "    \n",
    "    #Return Value\n",
    "    X_train = []\n",
    "    X_test = []\n",
    "    \n",
    "    #Tokenizer & Remove Stopwords\n",
    "    for train_sentence in train_data['document']:\n",
    "        temp_train = tokenizer.morphs(train_sentence)\n",
    "        temp_train = [word for word in temp_train if word not in stopwords]\n",
    "        X_train.append(temp_train)\n",
    "\n",
    "    for test_sentence in test_data['document']:\n",
    "        temp_test = tokenizer.morphs(test_sentence)\n",
    "        temp_test = [word for word in temp_test if word not in stopwords]\n",
    "        X_test.append(temp_test)\n",
    "    \n",
    "    # Create word_to_index as a dictionary\n",
    "    word_to_index = {}\n",
    "    \n",
    "    words = set()\n",
    "    for sentence in X_train:\n",
    "        for word in sentence:\n",
    "            words.add(word)\n",
    "    \n",
    "    for sentence in X_test:\n",
    "        for word in sentence:\n",
    "            words.add(word)\n",
    "    \n",
    "    for word in words:\n",
    "        if word not in word_to_index:\n",
    "            word_to_index[word] = len(word_to_index)\n",
    "\n",
    "    X_train_indices = []\n",
    "    X_test_indices = []\n",
    "    \n",
    "    for sentence in X_train:\n",
    "        X_train_indices.append([word_to_index.get(word) for word in sentence])\n",
    "    \n",
    "    for sentence in X_test:\n",
    "        X_test_indices.append([word_to_index.get(word) for word in sentence])\n",
    "    \n",
    "    y_train = np.array(list(train_data['label']))\n",
    "    y_test = np.array(list(test_data['label']))\n",
    "    \n",
    "    return X_train_indices, y_train, X_test_indices, y_test, word_to_index\n",
    "\n",
    "X_train, y_train, X_test, y_test, word_to_index = load_data(train_data, test_data)"
   ]
  },
  {
   "cell_type": "code",
   "execution_count": 3,
   "id": "02115539",
   "metadata": {},
   "outputs": [],
   "source": [
    "tokenizer = Mecab()\n",
    "stopwords = ['의','가','이','은','들','는','좀','잘','걍','과','도','를','으로','자','에','와','한','하다']\n",
    "\n",
    "\n",
    "def load_data(train_data, test_data, num_words=10000):\n",
    "    train_data.drop_duplicates(subset=['document'], inplace=True)\n",
    "    train_data = train_data.dropna(how = 'any') \n",
    "    test_data.drop_duplicates(subset=['document'], inplace=True)\n",
    "    test_data = test_data.dropna(how = 'any') \n",
    "    \n",
    "    X_train = []\n",
    "    for sentence in train_data['document']:\n",
    "        temp_X = tokenizer.morphs(sentence) # 토큰화\n",
    "        temp_X = [word for word in temp_X if not word in stopwords] # 불용어 제거\n",
    "        X_train.append(temp_X)\n",
    "\n",
    "    X_test = []\n",
    "    for sentence in test_data['document']:\n",
    "        temp_X = tokenizer.morphs(sentence) # 토큰화\n",
    "        temp_X = [word for word in temp_X if not word in stopwords] # 불용어 제거\n",
    "        X_test.append(temp_X)\n",
    "    \n",
    "    words = np.concatenate(X_train).tolist()\n",
    "    counter = Counter(words)\n",
    "    counter = counter.most_common(10000-4)\n",
    "    vocab = ['', '', '', ''] + [key for key, _ in counter]\n",
    "    word_to_index = {word:index for index, word in enumerate(vocab)}\n",
    "    \n",
    "    word_to_index[\"<PAD>\"] = 0\n",
    "    word_to_index[\"<BOS>\"] = 1\n",
    "    word_to_index[\"<UNK>\"] = 2\n",
    "    \n",
    "    def wordlist_to_indexlist(wordlist):\n",
    "        return [word_to_index[word] if word in word_to_index else word_to_index[''] for word in wordlist]\n",
    "        \n",
    "    X_train = list(map(wordlist_to_indexlist, X_train))\n",
    "    X_test = list(map(wordlist_to_indexlist, X_test))\n",
    "        \n",
    "    return X_train, np.array(list(train_data['label'])), X_test, np.array(list(test_data['label'])), word_to_index\n",
    "    \n",
    "X_train, y_train, X_test, y_test, word_to_index = load_data(train_data, test_data)\n",
    "\n"
   ]
  },
  {
   "cell_type": "code",
   "execution_count": 4,
   "id": "1e5f5788",
   "metadata": {},
   "outputs": [
    {
     "name": "stdout",
     "output_type": "stream",
     "text": [
      "Shpae of list X_train 146182\n",
      "Shpae of list y_train 146182\n",
      "Shpae of list X_test 49157\n",
      "Shpae of list y_test 49157\n",
      "Shpae of list word_to_index 10000\n"
     ]
    }
   ],
   "source": [
    "print(\"Shpae of list X_train\",len(X_train))\n",
    "print(\"Shpae of list y_train\",len(y_train))\n",
    "print(\"Shpae of list X_test\",len(X_test))\n",
    "print(\"Shpae of list y_test\",len(y_test))\n",
    "print(\"Shpae of list word_to_index\",len(word_to_index))"
   ]
  },
  {
   "cell_type": "code",
   "execution_count": 5,
   "id": "f9576bc2",
   "metadata": {},
   "outputs": [
    {
     "name": "stdout",
     "output_type": "stream",
     "text": [
      "[32, 74, 919, 4, 4, 39, 228, 20, 33, 748]\n"
     ]
    }
   ],
   "source": [
    "print(X_train[0])"
   ]
  },
  {
   "cell_type": "code",
   "execution_count": 6,
   "id": "48f79b9b",
   "metadata": {},
   "outputs": [],
   "source": [
    "# Function get_encoded_sentence\n",
    "# Input : One sentence, Word Dictionary\n",
    "# Return : Index list Vector\n",
    "def get_encoded_sentence(sentence, word_to_index):\n",
    "    return [word_to_index['<BOS>']]+[word_to_index[word] if word in word_to_index else word_to_index['<UNK>'] for word in sentence.split()]\n",
    "\n",
    "# Function get_encoded_sentences\n",
    "# Input : Multiple Sentences, Word Dictionary\n",
    "# Return : call get_encoded_sentence\n",
    "def get_encoded_sentences(sentences, word_to_index):\n",
    "    return [get_encoded_sentence(sentence, word_to_index) for sentence in sentences]\n",
    "\n",
    "# Function get_decoded_sentence\n",
    "# Input : encoded_sentence, Index Dictionary\n",
    "# Return : Decoded index vector to original sentence\n",
    "def get_decoded_sentence(encoded_sentence, bindex_to_word):\n",
    "    return ' '.join(index_to_word[index] if index in index_to_word else '<UNK>' for index in encoded_sentence[1:])  #[1:]를 통해 <BOS>를 제외\n",
    "\n",
    "# Function get_decoded_sentences\n",
    "# Input : encoded_sentences, Index Dictionary\n",
    "# Return : call get_deencoded_sentence\n",
    "def get_decoded_sentences(encoded_sentences, index_to_word):\n",
    "    return [get_decoded_sentence(encoded_sentence, index_to_word) for encoded_sentence in encoded_sentences]"
   ]
  },
  {
   "cell_type": "code",
   "execution_count": 7,
   "id": "2a573884",
   "metadata": {},
   "outputs": [],
   "source": [
    "index_to_word = {index:word for word, index in word_to_index.items()}"
   ]
  },
  {
   "cell_type": "markdown",
   "id": "42130e1f",
   "metadata": {},
   "source": [
    "# 3. Preprocessing\n",
    "- [ ] Check the distribution of sentence lengths\n",
    "- [ ] Determine the maximum sentenc length\n",
    "- [ ] Add padding using keras.preprocessing.sequence.pad_sequences"
   ]
  },
  {
   "cell_type": "markdown",
   "id": "aaf6be65",
   "metadata": {},
   "source": [
    "## 3-1. Check the distribution of sentence lengths"
   ]
  },
  {
   "cell_type": "code",
   "execution_count": 8,
   "id": "3bf61406",
   "metadata": {},
   "outputs": [
    {
     "name": "stdout",
     "output_type": "stream",
     "text": [
      "AVG sentence lengths :  15.96940191154864\n",
      "MAX sentence lengths:  116\n",
      "SD  sentence lengths:  12.843571191092\n"
     ]
    }
   ],
   "source": [
    "total_data = X_train + X_test\n",
    "num_tokens = [len(tokens) for tokens in total_data]\n",
    "num_tokens = np.array(num_tokens)\n",
    "\n",
    "print('AVG sentence lengths : ', np.mean(num_tokens))\n",
    "print('MAX sentence lengths: ', np.max(num_tokens))\n",
    "print('SD  sentence lengths: ', np.std(num_tokens))"
   ]
  },
  {
   "cell_type": "markdown",
   "id": "80dbb652",
   "metadata": {},
   "source": [
    "## 3-2. Determine the maximum sentenc length"
   ]
  },
  {
   "cell_type": "code",
   "execution_count": 9,
   "id": "1cbda937",
   "metadata": {},
   "outputs": [
    {
     "name": "stdout",
     "output_type": "stream",
     "text": [
      "pad_sequences maxlen :  41\n",
      "0.9342988343341575%of the total sentences are included within the maxlen setting. \n"
     ]
    }
   ],
   "source": [
    "max_tokens = np.mean(num_tokens) + 2 * np.std(num_tokens)\n",
    "maxlen = int(np.mean(num_tokens) + 2 * np.std(num_tokens))\n",
    "print('pad_sequences maxlen : ', maxlen)\n",
    "print(f'{np.sum(num_tokens < max_tokens) / len(num_tokens)}%of the total sentences are included within the maxlen setting. ')"
   ]
  },
  {
   "cell_type": "markdown",
   "id": "cd4c7335",
   "metadata": {},
   "source": [
    "## 3-3. Add padding using keras.preprocessing.sequence.pad_sequences"
   ]
  },
  {
   "cell_type": "code",
   "execution_count": 10,
   "id": "f6aba27c",
   "metadata": {},
   "outputs": [
    {
     "name": "stdout",
     "output_type": "stream",
     "text": [
      "(146182, 41)\n",
      "(49157, 41)\n"
     ]
    }
   ],
   "source": [
    "X_train = tf.keras.preprocessing.sequence.pad_sequences(X_train,\n",
    "                                                        value=word_to_index[\"<PAD>\"],\n",
    "                                                        padding='pre', \n",
    "                                                        maxlen=maxlen)\n",
    "\n",
    "X_test = tf.keras.preprocessing.sequence.pad_sequences(X_test,\n",
    "                                                       value=word_to_index[\"<PAD>\"],\n",
    "                                                       padding='pre', \n",
    "                                                       maxlen=maxlen)\n",
    "\n",
    "print(X_train.shape)\n",
    "print(X_test.shape)"
   ]
  },
  {
   "cell_type": "markdown",
   "id": "1a0e7926",
   "metadata": {},
   "source": [
    "# 4. Set Model and Validation set"
   ]
  },
  {
   "cell_type": "markdown",
   "id": "23e48525",
   "metadata": {},
   "source": [
    "## 4-1. Set Model\n",
    "### First Model"
   ]
  },
  {
   "cell_type": "code",
   "execution_count": 15,
   "id": "ba486f85",
   "metadata": {},
   "outputs": [
    {
     "name": "stdout",
     "output_type": "stream",
     "text": [
      "Model: \"sequential_4\"\n",
      "_________________________________________________________________\n",
      "Layer (type)                 Output Shape              Param #   \n",
      "=================================================================\n",
      "embedding_4 (Embedding)      (None, None, 16)          160000    \n",
      "_________________________________________________________________\n",
      "lstm_2 (LSTM)                (None, 128)               74240     \n",
      "_________________________________________________________________\n",
      "dense_8 (Dense)              (None, 64)                8256      \n",
      "_________________________________________________________________\n",
      "dense_9 (Dense)              (None, 1)                 65        \n",
      "=================================================================\n",
      "Total params: 242,561\n",
      "Trainable params: 242,561\n",
      "Non-trainable params: 0\n",
      "_________________________________________________________________\n"
     ]
    }
   ],
   "source": [
    "vocab_size = 10000    \n",
    "word_vector_dim = 16  \n",
    "\n",
    "model_01 = tf.keras.Sequential()\n",
    "model_01.add(tf.keras.layers.Embedding(vocab_size, word_vector_dim, input_shape=(None,)))\n",
    "model_01.add(tf.keras.layers.LSTM(128))\n",
    "model_01.add(tf.keras.layers.Dense(64, activation='relu'))\n",
    "model_01.add(tf.keras.layers.Dense(1, activation='sigmoid')) \n",
    "\n",
    "model_01.summary()"
   ]
  },
  {
   "cell_type": "markdown",
   "id": "40c5da4d",
   "metadata": {},
   "source": [
    "### Second Model"
   ]
  },
  {
   "cell_type": "code",
   "execution_count": 13,
   "id": "f2977b60",
   "metadata": {},
   "outputs": [
    {
     "name": "stdout",
     "output_type": "stream",
     "text": [
      "Model: \"sequential_2\"\n",
      "_________________________________________________________________\n",
      "Layer (type)                 Output Shape              Param #   \n",
      "=================================================================\n",
      "embedding_2 (Embedding)      (None, None, 16)          160000    \n",
      "_________________________________________________________________\n",
      "conv1d_2 (Conv1D)            (None, None, 64)          7232      \n",
      "_________________________________________________________________\n",
      "max_pooling1d_1 (MaxPooling1 (None, None, 64)          0         \n",
      "_________________________________________________________________\n",
      "conv1d_3 (Conv1D)            (None, None, 32)          14368     \n",
      "_________________________________________________________________\n",
      "global_max_pooling1d_1 (Glob (None, 32)                0         \n",
      "_________________________________________________________________\n",
      "dense_4 (Dense)              (None, 8)                 264       \n",
      "_________________________________________________________________\n",
      "dense_5 (Dense)              (None, 1)                 9         \n",
      "=================================================================\n",
      "Total params: 181,873\n",
      "Trainable params: 181,873\n",
      "Non-trainable params: 0\n",
      "_________________________________________________________________\n"
     ]
    }
   ],
   "source": [
    "model_02 = tf.keras.Sequential()\n",
    "model_02.add(tf.keras.layers.Embedding(vocab_size, word_vector_dim, input_shape=(None,)))\n",
    "model_02.add(tf.keras.layers.Conv1D(64, 7, activation='relu'))\n",
    "model_02.add(tf.keras.layers.MaxPooling1D(5))\n",
    "model_02.add(tf.keras.layers.Conv1D(32, 7, activation='relu'))\n",
    "model_02.add(tf.keras.layers.GlobalMaxPooling1D())\n",
    "model_02.add(tf.keras.layers.Dense(8, activation='relu'))\n",
    "model_02.add(tf.keras.layers.Dense(1, activation='sigmoid'))\n",
    "\n",
    "model_02.summary()"
   ]
  },
  {
   "cell_type": "markdown",
   "id": "6995caed",
   "metadata": {},
   "source": [
    "### Third Model"
   ]
  },
  {
   "cell_type": "code",
   "execution_count": 16,
   "id": "ee5c8975",
   "metadata": {},
   "outputs": [
    {
     "name": "stdout",
     "output_type": "stream",
     "text": [
      "Model: \"sequential_5\"\n",
      "_________________________________________________________________\n",
      "Layer (type)                 Output Shape              Param #   \n",
      "=================================================================\n",
      "embedding_5 (Embedding)      (None, None, 16)          160000    \n",
      "_________________________________________________________________\n",
      "bidirectional_1 (Bidirection (None, 256)               148480    \n",
      "_________________________________________________________________\n",
      "dense_10 (Dense)             (None, 64)                16448     \n",
      "_________________________________________________________________\n",
      "dense_11 (Dense)             (None, 1)                 65        \n",
      "=================================================================\n",
      "Total params: 324,993\n",
      "Trainable params: 324,993\n",
      "Non-trainable params: 0\n",
      "_________________________________________________________________\n"
     ]
    }
   ],
   "source": [
    "model_03 = tf.keras.Sequential()\n",
    "model_03.add(tf.keras.layers.Embedding(vocab_size, word_vector_dim, input_shape=(None,)))\n",
    "model_03.add(tf.keras.layers.Bidirectional(tf.keras.layers.LSTM(128)))  # Bidirectional LSTM\n",
    "model_03.add(tf.keras.layers.Dense(64, activation='relu'))\n",
    "model_03.add(tf.keras.layers.Dense(1, activation='sigmoid'))\n",
    "\n",
    "# Print the summary of the new model\n",
    "model_03.summary()"
   ]
  },
  {
   "cell_type": "markdown",
   "id": "d221cda9",
   "metadata": {},
   "source": [
    "## 4-2. Validation Set"
   ]
  },
  {
   "cell_type": "code",
   "execution_count": 18,
   "id": "524f5ce0",
   "metadata": {},
   "outputs": [
    {
     "name": "stdout",
     "output_type": "stream",
     "text": [
      "(106182, 41)\n",
      "(106182,)\n"
     ]
    }
   ],
   "source": [
    "##print(X_train.shape) (146182, 41)\n",
    "\n",
    "x_val = X_train[:40000]   \n",
    "y_val = y_train[:40000]\n",
    "\n",
    "partial_x_train = X_train[40000:]  \n",
    "partial_y_train = y_train[40000:]\n",
    "\n",
    "print(partial_x_train.shape)\n",
    "print(partial_y_train.shape)"
   ]
  },
  {
   "cell_type": "markdown",
   "id": "a98a7b41",
   "metadata": {},
   "source": [
    "# 5. Train Model"
   ]
  },
  {
   "cell_type": "code",
   "execution_count": 19,
   "id": "4f64bb38",
   "metadata": {},
   "outputs": [
    {
     "name": "stdout",
     "output_type": "stream",
     "text": [
      "Epoch 1/20\n",
      "208/208 [==============================] - 34s 12ms/step - loss: 0.4546 - accuracy: 0.7832 - val_loss: 0.3542 - val_accuracy: 0.8467\n",
      "Epoch 2/20\n",
      "208/208 [==============================] - 2s 9ms/step - loss: 0.3356 - accuracy: 0.8564 - val_loss: 0.3465 - val_accuracy: 0.8497\n",
      "Epoch 3/20\n",
      "208/208 [==============================] - 2s 10ms/step - loss: 0.3158 - accuracy: 0.8674 - val_loss: 0.3481 - val_accuracy: 0.8487\n",
      "Epoch 4/20\n",
      "208/208 [==============================] - 2s 9ms/step - loss: 0.3033 - accuracy: 0.8743 - val_loss: 0.3522 - val_accuracy: 0.8497\n",
      "Epoch 5/20\n",
      "208/208 [==============================] - 2s 9ms/step - loss: 0.2862 - accuracy: 0.8816 - val_loss: 0.3499 - val_accuracy: 0.8506\n",
      "Epoch 6/20\n",
      "208/208 [==============================] - 2s 10ms/step - loss: 0.2652 - accuracy: 0.8895 - val_loss: 0.3513 - val_accuracy: 0.8498\n",
      "Epoch 7/20\n",
      "208/208 [==============================] - 2s 10ms/step - loss: 0.2448 - accuracy: 0.9003 - val_loss: 0.3666 - val_accuracy: 0.8500\n",
      "Epoch 8/20\n",
      "208/208 [==============================] - 2s 10ms/step - loss: 0.2250 - accuracy: 0.9096 - val_loss: 0.3893 - val_accuracy: 0.8470\n",
      "Epoch 9/20\n",
      "208/208 [==============================] - 2s 10ms/step - loss: 0.2077 - accuracy: 0.9167 - val_loss: 0.3906 - val_accuracy: 0.8464\n",
      "Epoch 10/20\n",
      "208/208 [==============================] - 2s 10ms/step - loss: 0.1902 - accuracy: 0.9253 - val_loss: 0.4320 - val_accuracy: 0.8468\n",
      "Epoch 11/20\n",
      "208/208 [==============================] - 2s 10ms/step - loss: 0.1745 - accuracy: 0.9319 - val_loss: 0.4809 - val_accuracy: 0.8453\n",
      "Epoch 12/20\n",
      "208/208 [==============================] - 2s 10ms/step - loss: 0.1611 - accuracy: 0.9380 - val_loss: 0.4976 - val_accuracy: 0.8415\n",
      "Epoch 13/20\n",
      "208/208 [==============================] - 2s 10ms/step - loss: 0.1498 - accuracy: 0.9429 - val_loss: 0.5157 - val_accuracy: 0.8367\n",
      "Epoch 14/20\n",
      "208/208 [==============================] - 2s 10ms/step - loss: 0.1408 - accuracy: 0.9458 - val_loss: 0.5546 - val_accuracy: 0.8399\n",
      "Epoch 15/20\n",
      "208/208 [==============================] - 2s 10ms/step - loss: 0.1311 - accuracy: 0.9495 - val_loss: 0.6202 - val_accuracy: 0.8388\n",
      "Epoch 16/20\n",
      "208/208 [==============================] - 2s 10ms/step - loss: 0.1219 - accuracy: 0.9536 - val_loss: 0.6180 - val_accuracy: 0.8316\n",
      "Epoch 17/20\n",
      "208/208 [==============================] - 2s 10ms/step - loss: 0.1154 - accuracy: 0.9561 - val_loss: 0.6590 - val_accuracy: 0.8355\n",
      "Epoch 18/20\n",
      "208/208 [==============================] - 2s 10ms/step - loss: 0.1074 - accuracy: 0.9590 - val_loss: 0.6964 - val_accuracy: 0.8333\n",
      "Epoch 19/20\n",
      "208/208 [==============================] - 2s 10ms/step - loss: 0.0987 - accuracy: 0.9629 - val_loss: 0.7012 - val_accuracy: 0.8307\n",
      "Epoch 20/20\n",
      "208/208 [==============================] - 2s 10ms/step - loss: 0.0929 - accuracy: 0.9648 - val_loss: 0.8062 - val_accuracy: 0.8353\n",
      "Epoch 1/20\n",
      "208/208 [==============================] - 20s 8ms/step - loss: 0.4843 - accuracy: 0.7473 - val_loss: 0.3541 - val_accuracy: 0.8446\n",
      "Epoch 2/20\n",
      "208/208 [==============================] - 1s 6ms/step - loss: 0.3245 - accuracy: 0.8625 - val_loss: 0.3387 - val_accuracy: 0.8536\n",
      "Epoch 3/20\n",
      "208/208 [==============================] - 1s 6ms/step - loss: 0.2884 - accuracy: 0.8800 - val_loss: 0.3382 - val_accuracy: 0.8547\n",
      "Epoch 4/20\n",
      "208/208 [==============================] - 1s 7ms/step - loss: 0.2562 - accuracy: 0.8957 - val_loss: 0.3458 - val_accuracy: 0.8511\n",
      "Epoch 5/20\n",
      "208/208 [==============================] - 1s 6ms/step - loss: 0.2211 - accuracy: 0.9137 - val_loss: 0.3624 - val_accuracy: 0.8530\n",
      "Epoch 6/20\n",
      "208/208 [==============================] - 1s 6ms/step - loss: 0.1856 - accuracy: 0.9305 - val_loss: 0.3939 - val_accuracy: 0.8464\n",
      "Epoch 7/20\n",
      "208/208 [==============================] - 1s 6ms/step - loss: 0.1524 - accuracy: 0.9456 - val_loss: 0.4339 - val_accuracy: 0.8447\n",
      "Epoch 8/20\n",
      "208/208 [==============================] - 1s 6ms/step - loss: 0.1215 - accuracy: 0.9591 - val_loss: 0.4791 - val_accuracy: 0.8389\n",
      "Epoch 9/20\n",
      "208/208 [==============================] - 1s 6ms/step - loss: 0.0973 - accuracy: 0.9688 - val_loss: 0.5239 - val_accuracy: 0.8372\n",
      "Epoch 10/20\n",
      "208/208 [==============================] - 1s 6ms/step - loss: 0.0789 - accuracy: 0.9761 - val_loss: 0.5908 - val_accuracy: 0.8361\n",
      "Epoch 11/20\n",
      "208/208 [==============================] - 1s 7ms/step - loss: 0.0655 - accuracy: 0.9806 - val_loss: 0.6337 - val_accuracy: 0.8321\n",
      "Epoch 12/20\n",
      "208/208 [==============================] - 1s 6ms/step - loss: 0.0562 - accuracy: 0.9839 - val_loss: 0.6858 - val_accuracy: 0.8297\n",
      "Epoch 13/20\n",
      "208/208 [==============================] - 1s 6ms/step - loss: 0.0479 - accuracy: 0.9865 - val_loss: 0.7226 - val_accuracy: 0.8265\n",
      "Epoch 14/20\n",
      "208/208 [==============================] - 1s 6ms/step - loss: 0.0419 - accuracy: 0.9884 - val_loss: 0.7979 - val_accuracy: 0.8254\n",
      "Epoch 15/20\n",
      "208/208 [==============================] - 1s 6ms/step - loss: 0.0383 - accuracy: 0.9892 - val_loss: 0.8459 - val_accuracy: 0.8241\n",
      "Epoch 16/20\n",
      "208/208 [==============================] - 1s 7ms/step - loss: 0.0385 - accuracy: 0.9885 - val_loss: 0.8615 - val_accuracy: 0.8166\n",
      "Epoch 17/20\n",
      "208/208 [==============================] - 1s 7ms/step - loss: 0.0354 - accuracy: 0.9894 - val_loss: 0.9035 - val_accuracy: 0.8223\n",
      "Epoch 18/20\n",
      "208/208 [==============================] - 1s 7ms/step - loss: 0.0318 - accuracy: 0.9909 - val_loss: 0.9198 - val_accuracy: 0.8206\n",
      "Epoch 19/20\n",
      "208/208 [==============================] - 1s 7ms/step - loss: 0.0294 - accuracy: 0.9914 - val_loss: 0.9968 - val_accuracy: 0.8197\n",
      "Epoch 20/20\n",
      "208/208 [==============================] - 1s 6ms/step - loss: 0.0273 - accuracy: 0.9920 - val_loss: 1.0027 - val_accuracy: 0.8244\n",
      "Epoch 1/20\n",
      "208/208 [==============================] - 7s 20ms/step - loss: 0.4498 - accuracy: 0.7811 - val_loss: 0.3507 - val_accuracy: 0.8485\n",
      "Epoch 2/20\n",
      "208/208 [==============================] - 4s 17ms/step - loss: 0.3314 - accuracy: 0.8591 - val_loss: 0.3475 - val_accuracy: 0.8494\n",
      "Epoch 3/20\n",
      "208/208 [==============================] - 4s 17ms/step - loss: 0.3126 - accuracy: 0.8684 - val_loss: 0.3471 - val_accuracy: 0.8515\n",
      "Epoch 4/20\n",
      "208/208 [==============================] - 4s 17ms/step - loss: 0.2938 - accuracy: 0.8780 - val_loss: 0.3486 - val_accuracy: 0.8508\n",
      "Epoch 5/20\n",
      "208/208 [==============================] - 4s 17ms/step - loss: 0.2720 - accuracy: 0.8886 - val_loss: 0.3534 - val_accuracy: 0.8529\n",
      "Epoch 6/20\n",
      "208/208 [==============================] - 4s 17ms/step - loss: 0.2535 - accuracy: 0.8970 - val_loss: 0.3605 - val_accuracy: 0.8531\n",
      "Epoch 7/20\n",
      "208/208 [==============================] - 4s 17ms/step - loss: 0.2337 - accuracy: 0.9083 - val_loss: 0.3605 - val_accuracy: 0.8481\n",
      "Epoch 8/20\n",
      "208/208 [==============================] - 4s 17ms/step - loss: 0.2168 - accuracy: 0.9150 - val_loss: 0.3820 - val_accuracy: 0.8486\n",
      "Epoch 9/20\n",
      "208/208 [==============================] - 4s 17ms/step - loss: 0.2007 - accuracy: 0.9227 - val_loss: 0.4054 - val_accuracy: 0.8468\n",
      "Epoch 10/20\n",
      "208/208 [==============================] - 4s 17ms/step - loss: 0.1844 - accuracy: 0.9300 - val_loss: 0.4194 - val_accuracy: 0.8427\n",
      "Epoch 11/20\n",
      "208/208 [==============================] - 4s 17ms/step - loss: 0.1707 - accuracy: 0.9359 - val_loss: 0.4486 - val_accuracy: 0.8442\n",
      "Epoch 12/20\n",
      "208/208 [==============================] - 4s 17ms/step - loss: 0.1571 - accuracy: 0.9420 - val_loss: 0.4881 - val_accuracy: 0.8395\n",
      "Epoch 13/20\n",
      "208/208 [==============================] - 4s 17ms/step - loss: 0.1474 - accuracy: 0.9463 - val_loss: 0.4879 - val_accuracy: 0.8336\n",
      "Epoch 14/20\n",
      "208/208 [==============================] - 4s 17ms/step - loss: 0.1368 - accuracy: 0.9502 - val_loss: 0.5322 - val_accuracy: 0.8364\n",
      "Epoch 15/20\n",
      "208/208 [==============================] - 4s 17ms/step - loss: 0.1281 - accuracy: 0.9542 - val_loss: 0.5366 - val_accuracy: 0.8379\n",
      "Epoch 16/20\n",
      "208/208 [==============================] - 4s 17ms/step - loss: 0.1206 - accuracy: 0.9572 - val_loss: 0.6128 - val_accuracy: 0.8342\n",
      "Epoch 17/20\n",
      "208/208 [==============================] - 4s 17ms/step - loss: 0.1121 - accuracy: 0.9604 - val_loss: 0.6202 - val_accuracy: 0.8339\n",
      "Epoch 18/20\n"
     ]
    },
    {
     "name": "stdout",
     "output_type": "stream",
     "text": [
      "208/208 [==============================] - 4s 17ms/step - loss: 0.1055 - accuracy: 0.9628 - val_loss: 0.6373 - val_accuracy: 0.8333\n",
      "Epoch 19/20\n",
      "208/208 [==============================] - 4s 17ms/step - loss: 0.1007 - accuracy: 0.9642 - val_loss: 0.6977 - val_accuracy: 0.8315\n",
      "Epoch 20/20\n",
      "208/208 [==============================] - 4s 17ms/step - loss: 0.0923 - accuracy: 0.9675 - val_loss: 0.7307 - val_accuracy: 0.8299\n"
     ]
    }
   ],
   "source": [
    "model_01.compile(optimizer='adam',\n",
    "              loss='binary_crossentropy',\n",
    "              metrics=['accuracy'])\n",
    "              \n",
    "model_02.compile(optimizer='adam',\n",
    "              loss='binary_crossentropy',\n",
    "              metrics=['accuracy'])\n",
    "\n",
    "model_03.compile(optimizer='adam',\n",
    "              loss='binary_crossentropy',\n",
    "              metrics=['accuracy'])\n",
    "    \n",
    "epochs=20 \n",
    "\n",
    "history_01 = model_01.fit(partial_x_train,\n",
    "                    partial_y_train,\n",
    "                    epochs=epochs,\n",
    "                    batch_size=512,\n",
    "                    validation_data=(x_val, y_val),\n",
    "                    verbose=1)\n",
    "\n",
    "history_02 = model_02.fit(partial_x_train,\n",
    "                    partial_y_train,\n",
    "                    epochs=epochs,\n",
    "                    batch_size=512,\n",
    "                    validation_data=(x_val, y_val),\n",
    "                    verbose=1)\n",
    "\n",
    "history_03 = model_03.fit(partial_x_train,\n",
    "                    partial_y_train,\n",
    "                    epochs=epochs,\n",
    "                    batch_size=512,\n",
    "                    validation_data=(x_val, y_val),\n",
    "                    verbose=1)"
   ]
  },
  {
   "cell_type": "code",
   "execution_count": 20,
   "id": "fea89915",
   "metadata": {},
   "outputs": [
    {
     "name": "stdout",
     "output_type": "stream",
     "text": [
      "1537/1537 - 3s - loss: 0.8012 - accuracy: 0.8332\n",
      "1537/1537 - 3s - loss: 1.0206 - accuracy: 0.8204\n",
      "1537/1537 - 5s - loss: 0.7332 - accuracy: 0.8253\n",
      "[0.8012479543685913, 0.8331671953201294]\n",
      "[1.020559549331665, 0.8204324841499329]\n",
      "[0.7332460284233093, 0.8253351449966431]\n"
     ]
    }
   ],
   "source": [
    "results_01 = model_01.evaluate(X_test,  y_test, verbose=2)\n",
    "\n",
    "results_02 = model_02.evaluate(X_test,  y_test, verbose=2)\n",
    "\n",
    "results_03 = model_03.evaluate(X_test,  y_test, verbose=2)\n",
    "\n",
    "print(results_01)\n",
    "\n",
    "print(results_02)\n",
    "\n",
    "print(results_03)\n"
   ]
  },
  {
   "cell_type": "markdown",
   "id": "0f0650e6",
   "metadata": {},
   "source": [
    "# 6. Loss Accuracy graph"
   ]
  },
  {
   "cell_type": "code",
   "execution_count": 27,
   "id": "d8b19790",
   "metadata": {},
   "outputs": [],
   "source": [
    "history_dict_01 = history_01.history\n",
    "history_dict_02 = history_02.history\n",
    "history_dict_03 = history_03.history"
   ]
  },
  {
   "cell_type": "code",
   "execution_count": 29,
   "id": "a27e705d",
   "metadata": {},
   "outputs": [
    {
     "data": {
      "image/png": "[encoded data removed]",
      "text/plain": [
       "<Figure size 432x288 with 1 Axes>"
      ]
     },
     "metadata": {
      "needs_background": "light"
     },
     "output_type": "display_data"
    }
   ],
   "source": [
    "import matplotlib.pyplot as plt\n",
    "\n",
    "\n",
    "acc = history_dict_01['accuracy']\n",
    "val_acc = history_dict_01['val_accuracy']\n",
    "loss = history_dict_01['loss']\n",
    "val_loss = history_dict_01['val_loss']\n",
    "epochs = range(1, len(acc) + 1)\n",
    "\n",
    "plt.plot(epochs, loss, 'bo', label='Training loss')\n",
    "plt.plot(epochs, val_loss, 'b', label='Validation loss')\n",
    "plt.title('Model 01')\n",
    "plt.xlabel('Epochs')\n",
    "plt.ylabel('Loss')\n",
    "plt.legend()\n",
    "\n",
    "plt.show()"
   ]
  },
  {
   "cell_type": "code",
   "execution_count": 30,
   "id": "3944bf08",
   "metadata": {},
   "outputs": [
    {
     "data": {
      "image/png": "[encoded data removed]",
      "text/plain": [
       "<Figure size 432x288 with 1 Axes>"
      ]
     },
     "metadata": {
      "needs_background": "light"
     },
     "output_type": "display_data"
    }
   ],
   "source": [
    "acc = history_dict_02['accuracy']\n",
    "val_acc = history_dict_02['val_accuracy']\n",
    "loss = history_dict_02['loss']\n",
    "val_loss = history_dict_02['val_loss']\n",
    "epochs = range(1, len(acc) + 1)\n",
    "\n",
    "plt.plot(epochs, loss, 'bo', label='Training loss')\n",
    "plt.plot(epochs, val_loss, 'b', label='Validation loss')\n",
    "plt.title('Model 02')\n",
    "plt.xlabel('Epochs')\n",
    "plt.ylabel('Loss')\n",
    "plt.legend()\n",
    "\n",
    "plt.show()"
   ]
  },
  {
   "cell_type": "code",
   "execution_count": 31,
   "id": "51c6196d",
   "metadata": {},
   "outputs": [
    {
     "data": {
      "image/png": "[encoded data removed]",
      "text/plain": [
       "<Figure size 432x288 with 1 Axes>"
      ]
     },
     "metadata": {
      "needs_background": "light"
     },
     "output_type": "display_data"
    }
   ],
   "source": [
    "acc = history_dict_03['accuracy']\n",
    "val_acc = history_dict_03['val_accuracy']\n",
    "loss = history_dict_03['loss']\n",
    "val_loss = history_dict_03['val_loss']\n",
    "epochs = range(1, len(acc) + 1)\n",
    "\n",
    "plt.plot(epochs, loss, 'bo', label='Training loss')\n",
    "plt.plot(epochs, val_loss, 'b', label='Validation loss')\n",
    "plt.title('Model 03')\n",
    "plt.xlabel('Epochs')\n",
    "plt.ylabel('Loss')\n",
    "plt.legend()\n",
    "\n",
    "plt.show()"
   ]
  },
  {
   "cell_type": "markdown",
   "id": "9f5dbedd",
   "metadata": {},
   "source": [
    "## 6-1. Train Result\n",
    "\n",
    "### CNN has an overfitting issue\n",
    "As you can see on the graphs, all of the validation loss are showing an increasing trend.  \n",
    "Especially, the validation loss of model 2, using CNN, records a highest value and the increasment.  \n",
    "This suggests that a CNN model may encounter overfitting issues in sequential language data.  \n",
    "  \n",
    "### Using RNN\n",
    "I will use **model 1** because it indicated the highest accuracy and the lowes loss value on the test value set.  "
   ]
  },
  {
   "cell_type": "markdown",
   "id": "5fefa22f",
   "metadata": {},
   "source": [
    "# 7. Verify the Embedding layer is correctly configured"
   ]
  },
  {
   "cell_type": "code",
   "execution_count": 32,
   "id": "8241f124",
   "metadata": {},
   "outputs": [],
   "source": [
    "from gensim.models.keyedvectors import Word2VecKeyedVectors\n",
    "\n",
    "word2vec_file_path = '/aiffel/aiffel/AIFEL_Quest/Exploration_04/sentiment_classification/data/word2vec_project.txt'\n",
    "f = open(word2vec_file_path, 'w')\n",
    "f.write('{} {}\\n'.format(vocab_size-4, word_vector_dim))\n",
    "\n",
    "vectors = model_01.get_weights()[0]\n",
    "for i in range(4,vocab_size):\n",
    "    f.write('{} {}\\n'.format(index_to_word[i], ' '.join(map(str, list(vectors[i, :])))))\n",
    "f.close()"
   ]
  },
  {
   "cell_type": "code",
   "execution_count": 33,
   "id": "b692f0d4",
   "metadata": {},
   "outputs": [
    {
     "data": {
      "text/plain": [
       "[('감탄', 0.9609941840171814),\n",
       " ('강추', 0.9512394666671753),\n",
       " ('명작', 0.9414061307907104),\n",
       " ('만능', 0.9195526242256165),\n",
       " ('대작', 0.9159311652183533),\n",
       " ('편한', 0.9130150675773621),\n",
       " ('대박', 0.9082062840461731),\n",
       " ('..)', 0.9037594795227051),\n",
       " ('은은', 0.9036999344825745),\n",
       " ('구하', 0.9035965204238892)]"
      ]
     },
     "execution_count": 33,
     "metadata": {},
     "output_type": "execute_result"
    }
   ],
   "source": [
    "word_vectors = Word2VecKeyedVectors.load_word2vec_format(word2vec_file_path, binary=False)\n",
    "word_vectors.similar_by_word(\"사랑\")"
   ]
  },
  {
   "cell_type": "markdown",
   "id": "a43c907e",
   "metadata": {},
   "source": [
    "## 7-1. Result of embedding layer\n",
    "The results from the embedding layer, as observed in the previous cell, indicate that words like '사랑' and others   appear to lack meaningful representations. This suggests that the embedding layer is not effectively capturing   semantic information."
   ]
  },
  {
   "cell_type": "markdown",
   "id": "9011908b",
   "metadata": {},
   "source": [
    "# 8. Improve performance using 한국어 Word2Vec "
   ]
  },
  {
   "cell_type": "code",
   "execution_count": 34,
   "id": "116fef87",
   "metadata": {},
   "outputs": [],
   "source": [
    "temporary_filepath = 'sentiment_classification/data/word2vec_ko.model'\n",
    "saved_model = gensim.models.Word2Vec.load(temporary_filepath)\n",
    "word_vectors = saved_model.wv"
   ]
  },
  {
   "cell_type": "code",
   "execution_count": 35,
   "id": "f44429ed",
   "metadata": {},
   "outputs": [
    {
     "data": {
      "text/plain": [
       "[('이별', 0.7626414895057678),\n",
       " ('행복', 0.7550068497657776),\n",
       " ('슬픔', 0.7381505966186523),\n",
       " ('유혹', 0.7238055467605591),\n",
       " ('그리움', 0.7167419195175171),\n",
       " ('추억', 0.7143999338150024),\n",
       " ('꿈', 0.7089294195175171),\n",
       " ('애정', 0.7066588997840881),\n",
       " ('포옹', 0.7034594416618347),\n",
       " ('마음', 0.6972615718841553)]"
      ]
     },
     "execution_count": 35,
     "metadata": {},
     "output_type": "execute_result"
    }
   ],
   "source": [
    "word_vectors.similar_by_word(\"사랑\")"
   ]
  },
  {
   "cell_type": "code",
   "execution_count": 36,
   "id": "82b1b8dc",
   "metadata": {},
   "outputs": [],
   "source": [
    "vocab_size = 10000\n",
    "word_vector_dim = 100  \n",
    "embedding_matrix = np.random.rand(vocab_size, word_vector_dim)\n",
    "\n",
    "\n",
    "for i in range(3,vocab_size):\n",
    "    if index_to_word[i] in word_vectors:\n",
    "        embedding_matrix[i] = word_vectors[index_to_word[i]]"
   ]
  },
  {
   "cell_type": "code",
   "execution_count": 43,
   "id": "6d245963",
   "metadata": {},
   "outputs": [
    {
     "name": "stdout",
     "output_type": "stream",
     "text": [
      "WARNING:tensorflow:Layer lstm_6 will not use cuDNN kernels since it doesn't meet the criteria. It will use a generic GPU kernel as fallback when running on GPU.\n",
      "Model: \"sequential_8\"\n",
      "_________________________________________________________________\n",
      "Layer (type)                 Output Shape              Param #   \n",
      "=================================================================\n",
      "embedding_8 (Embedding)      (None, 41, 100)           1000000   \n",
      "_________________________________________________________________\n",
      "lstm_6 (LSTM)                (None, 128)               117248    \n",
      "_________________________________________________________________\n",
      "dense_15 (Dense)             (None, 128)               16512     \n",
      "_________________________________________________________________\n",
      "dropout (Dropout)            (None, 128)               0         \n",
      "_________________________________________________________________\n",
      "dense_16 (Dense)             (None, 1)                 129       \n",
      "=================================================================\n",
      "Total params: 1,133,889\n",
      "Trainable params: 1,133,889\n",
      "Non-trainable params: 0\n",
      "_________________________________________________________________\n"
     ]
    }
   ],
   "source": [
    "from tensorflow.keras.initializers import Constant\n",
    "\n",
    "\n",
    "model_04 = tf.keras.Sequential()\n",
    "model_04.add(tf.keras.layers.Embedding(vocab_size,\n",
    "                                 word_vector_dim, \n",
    "                                 embeddings_initializer=Constant(embedding_matrix),  \n",
    "                                 input_length=maxlen, \n",
    "                                 trainable=True))\n",
    "model_04.add(tf.keras.layers.LSTM(128, dropout=0.2, recurrent_dropout=0.2))\n",
    "model_04.add(tf.keras.layers.Dense(128, activation='relu'))\n",
    "model_04.add(tf.keras.layers.Dropout(0.5))  \n",
    "model_04.add(tf.keras.layers.Dense(1, activation='sigmoid')) \n",
    "\n",
    "model_04.summary()"
   ]
  },
  {
   "cell_type": "code",
   "execution_count": 45,
   "id": "8d871031",
   "metadata": {},
   "outputs": [
    {
     "name": "stdout",
     "output_type": "stream",
     "text": [
      "Epoch 1/20\n",
      "208/208 [==============================] - 46s 209ms/step - loss: 0.3327 - accuracy: 0.8549 - val_loss: 0.3378 - val_accuracy: 0.8556\n",
      "Epoch 2/20\n",
      "208/208 [==============================] - 43s 208ms/step - loss: 0.3154 - accuracy: 0.8648 - val_loss: 0.3237 - val_accuracy: 0.8607\n",
      "Epoch 3/20\n",
      "208/208 [==============================] - 43s 207ms/step - loss: 0.3007 - accuracy: 0.8717 - val_loss: 0.3195 - val_accuracy: 0.8626\n",
      "Epoch 4/20\n",
      "208/208 [==============================] - 44s 210ms/step - loss: 0.2896 - accuracy: 0.8760 - val_loss: 0.3171 - val_accuracy: 0.8663\n",
      "Epoch 5/20\n",
      "208/208 [==============================] - 43s 208ms/step - loss: 0.2777 - accuracy: 0.8809 - val_loss: 0.3192 - val_accuracy: 0.8662\n",
      "Epoch 6/20\n",
      "208/208 [==============================] - 43s 208ms/step - loss: 0.2687 - accuracy: 0.8866 - val_loss: 0.3227 - val_accuracy: 0.8681\n",
      "Epoch 7/20\n",
      "208/208 [==============================] - 43s 208ms/step - loss: 0.2596 - accuracy: 0.8904 - val_loss: 0.3253 - val_accuracy: 0.8693\n",
      "Epoch 8/20\n",
      "208/208 [==============================] - 43s 208ms/step - loss: 0.2503 - accuracy: 0.8948 - val_loss: 0.3239 - val_accuracy: 0.8689\n",
      "Epoch 9/20\n",
      "208/208 [==============================] - 43s 209ms/step - loss: 0.2430 - accuracy: 0.8981 - val_loss: 0.3310 - val_accuracy: 0.8686\n",
      "Epoch 10/20\n",
      "208/208 [==============================] - 43s 209ms/step - loss: 0.2349 - accuracy: 0.9016 - val_loss: 0.3474 - val_accuracy: 0.8695\n",
      "Epoch 11/20\n",
      "208/208 [==============================] - 43s 208ms/step - loss: 0.2271 - accuracy: 0.9048 - val_loss: 0.3370 - val_accuracy: 0.8695\n",
      "Epoch 12/20\n",
      "208/208 [==============================] - 43s 207ms/step - loss: 0.2220 - accuracy: 0.9071 - val_loss: 0.3384 - val_accuracy: 0.8691\n",
      "Epoch 13/20\n",
      "208/208 [==============================] - 43s 209ms/step - loss: 0.2156 - accuracy: 0.9100 - val_loss: 0.3514 - val_accuracy: 0.8695\n",
      "Epoch 14/20\n",
      "208/208 [==============================] - 43s 208ms/step - loss: 0.2069 - accuracy: 0.9138 - val_loss: 0.3613 - val_accuracy: 0.8695\n",
      "Epoch 15/20\n",
      "208/208 [==============================] - 43s 209ms/step - loss: 0.2015 - accuracy: 0.9162 - val_loss: 0.3688 - val_accuracy: 0.8685\n",
      "Epoch 16/20\n",
      "208/208 [==============================] - 43s 208ms/step - loss: 0.1964 - accuracy: 0.9190 - val_loss: 0.3654 - val_accuracy: 0.8684\n",
      "Epoch 17/20\n",
      "208/208 [==============================] - 43s 208ms/step - loss: 0.1918 - accuracy: 0.9211 - val_loss: 0.3807 - val_accuracy: 0.8682\n",
      "Epoch 18/20\n",
      "208/208 [==============================] - 43s 209ms/step - loss: 0.1860 - accuracy: 0.9236 - val_loss: 0.3988 - val_accuracy: 0.8669\n",
      "Epoch 19/20\n",
      "208/208 [==============================] - 43s 208ms/step - loss: 0.1808 - accuracy: 0.9253 - val_loss: 0.3818 - val_accuracy: 0.8668\n",
      "Epoch 20/20\n",
      "208/208 [==============================] - 43s 207ms/step - loss: 0.1758 - accuracy: 0.9276 - val_loss: 0.4089 - val_accuracy: 0.8671\n"
     ]
    }
   ],
   "source": [
    "model_04.compile(optimizer='adam',\n",
    "              loss='binary_crossentropy',\n",
    "              metrics=['accuracy'])\n",
    "              \n",
    "epochs=20 \n",
    "\n",
    "history = model_04.fit(partial_x_train,\n",
    "                    partial_y_train,\n",
    "                    epochs=epochs,\n",
    "                    batch_size=512,\n",
    "                    validation_data=(x_val, y_val),\n",
    "                    verbose=1)"
   ]
  },
  {
   "cell_type": "code",
   "execution_count": 46,
   "id": "10615641",
   "metadata": {},
   "outputs": [
    {
     "name": "stdout",
     "output_type": "stream",
     "text": [
      "1537/1537 - 19s - loss: 0.4127 - accuracy: 0.8620\n",
      "[0.4127325713634491, 0.8620339035987854]\n"
     ]
    }
   ],
   "source": [
    "results = model_04.evaluate(X_test,  y_test, verbose=2)\n",
    "\n",
    "print(results)"
   ]
  },
  {
   "cell_type": "markdown",
   "id": "bf883213",
   "metadata": {},
   "source": [
    "# Retrospective\n",
    "## Review \n",
    " - Goal : Train a model that can determine whether movie reviews written in Korean are positive or negative.\n",
    "     - Step 1 : Preprocessing\n",
    "         - Convert the string data into numerical values.\n",
    "             - Remove NaN & Missing value\n",
    "             - Make word&index dictionary\n",
    "             - Change words to indexs\n",
    "             - Add padding considering the max length sentences\n",
    "     - Step 2 : Set and train model\n",
    "          - Set Model and validation set\n",
    "              - Try three kinds of models and choose one model that recorded the most highest performance\n",
    "          - Check Embedding layer\n",
    "              - The parameters inside the embedding layer were not appropriatley configured\n",
    "     - Step 3 : Change Embadding layer to pretrained embadding layer\n",
    "          - Change embadding layer to pretrained embadding layer\n",
    "          - Configure parameter to improve performance \n",
    "  \n",
    "## Using LSTM\n",
    "I chose to use an LSTM model because the words in a sentence mutually influence each other.\n",
    "I also attempted to use a Bi-LSTM model, but its performance was not as good as that of the LSTM model.\n",
    "  \n",
    "## Using drop out and recurrent dropout\n",
    "To improve the model performance, I add dropout layer and use recurrent dropout to prevent overfitting.  \n",
    "The key difference from traditional Dropout is that it applies Dropout not to parameters that depend on past information in the network but only to parameters influenced by the current input.  \n",
    "  \n",
    "## What I need to learn more\n",
    "- I aim to delve deeper into understanding how to determine parameters such as batch size, parameter size, the number of layers, and so forth.\n",
    "- Require deeper understanding  LSTM and Bi LSTM & recurrent dropout"
   ]
  }
 ],
 "metadata": {
  "kernelspec": {
   "display_name": "Python 3 (ipykernel)",
   "language": "python",
   "name": "python3"
  },
  "language_info": {
   "codemirror_mode": {
    "name": "ipython",
    "version": 3
   },
   "file_extension": ".py",
   "mimetype": "text/x-python",
   "name": "python",
   "nbconvert_exporter": "python",
   "pygments_lexer": "ipython3",
   "version": "3.9.7"
  }
 },
 "nbformat": 4,
 "nbformat_minor": 5
}
