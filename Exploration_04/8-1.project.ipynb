{
 "cells": [
  {
   "cell_type": "code",
   "execution_count": 69,
   "id": "b509d6a0",
   "metadata": {},
   "outputs": [],
   "source": [
    "import pandas as pd\n",
    "import konlpy\n",
    "import gensim\n",
    "import tensorflow as tf\n",
    "\n",
    "from konlpy.tag import Mecab\n",
    "import numpy as np\n",
    "from collections import Counter"
   ]
  },
  {
   "cell_type": "markdown",
   "id": "b61eb12b",
   "metadata": {},
   "source": [
    "# 1. Upload Data"
   ]
  },
  {
   "cell_type": "code",
   "execution_count": 32,
   "id": "ef53f9cf",
   "metadata": {},
   "outputs": [
    {
     "data": {
      "text/html": [
       "<div>\n",
       "<style scoped>\n",
       "    .dataframe tbody tr th:only-of-type {\n",
       "        vertical-align: middle;\n",
       "    }\n",
       "\n",
       "    .dataframe tbody tr th {\n",
       "        vertical-align: top;\n",
       "    }\n",
       "\n",
       "    .dataframe thead th {\n",
       "        text-align: right;\n",
       "    }\n",
       "</style>\n",
       "<table border=\"1\" class=\"dataframe\">\n",
       "  <thead>\n",
       "    <tr style=\"text-align: right;\">\n",
       "      <th></th>\n",
       "      <th>id</th>\n",
       "      <th>document</th>\n",
       "      <th>label</th>\n",
       "    </tr>\n",
       "  </thead>\n",
       "  <tbody>\n",
       "    <tr>\n",
       "      <th>0</th>\n",
       "      <td>9976970</td>\n",
       "      <td>아 더빙.. 진짜 짜증나네요 목소리</td>\n",
       "      <td>0</td>\n",
       "    </tr>\n",
       "    <tr>\n",
       "      <th>1</th>\n",
       "      <td>3819312</td>\n",
       "      <td>흠...포스터보고 초딩영화줄....오버연기조차 가볍지 않구나</td>\n",
       "      <td>1</td>\n",
       "    </tr>\n",
       "    <tr>\n",
       "      <th>2</th>\n",
       "      <td>10265843</td>\n",
       "      <td>너무재밓었다그래서보는것을추천한다</td>\n",
       "      <td>0</td>\n",
       "    </tr>\n",
       "    <tr>\n",
       "      <th>3</th>\n",
       "      <td>9045019</td>\n",
       "      <td>교도소 이야기구먼 ..솔직히 재미는 없다..평점 조정</td>\n",
       "      <td>0</td>\n",
       "    </tr>\n",
       "    <tr>\n",
       "      <th>4</th>\n",
       "      <td>6483659</td>\n",
       "      <td>사이몬페그의 익살스런 연기가 돋보였던 영화!스파이더맨에서 늙어보이기만 했던 커스틴 ...</td>\n",
       "      <td>1</td>\n",
       "    </tr>\n",
       "  </tbody>\n",
       "</table>\n",
       "</div>"
      ],
      "text/plain": [
       "         id                                           document  label\n",
       "0   9976970                                아 더빙.. 진짜 짜증나네요 목소리      0\n",
       "1   3819312                  흠...포스터보고 초딩영화줄....오버연기조차 가볍지 않구나      1\n",
       "2  10265843                                  너무재밓었다그래서보는것을추천한다      0\n",
       "3   9045019                      교도소 이야기구먼 ..솔직히 재미는 없다..평점 조정      0\n",
       "4   6483659  사이몬페그의 익살스런 연기가 돋보였던 영화!스파이더맨에서 늙어보이기만 했던 커스틴 ...      1"
      ]
     },
     "execution_count": 32,
     "metadata": {},
     "output_type": "execute_result"
    }
   ],
   "source": [
    "train_data = pd.read_table('sentiment_classification/data/ratings_train.txt')\n",
    "test_data = pd.read_table('sentiment_classification/data/ratings_test.txt')\n",
    "\n",
    "train_data.head()"
   ]
  },
  {
   "cell_type": "markdown",
   "id": "1338d669",
   "metadata": {},
   "source": [
    "# 2. Define load_data( ) & Encoding, Decoding functions\n",
    "- [ ] 데이터의 중복 제거\n",
    "- [ ] NaN 결측치 제거\n",
    "- [ ] 한국어 토크나이저로 토큰화\n",
    "- [ ] 불용어(Stopwords) 제거\n",
    "- [ ] 사전word_to_index 구성\n",
    "- [ ] 텍스트 스트링을 사전 인덱스 스트링으로 변환\n",
    "- [ ] X_train, y_train, X_test, y_test, word_to_index 리턴"
   ]
  },
  {
   "cell_type": "markdown",
   "id": "f7156323",
   "metadata": {},
   "source": [
    "tokenizer = Mecab()\n",
    "stopwords = ['의','가','이','은','들','는','좀','잘','걍','과','도','를','으로','자','에','와','한','하다']\n",
    "\n",
    "def load_data(train_data, test_data, num_words=10000):\n",
    "    #Remove duplicated rows\n",
    "    train_data.drop_duplicates(subset=['document'], inplace=True)\n",
    "    test_data.drop_duplicates(subset=['document'], inplace=True)\n",
    "    \n",
    "    #Remove NaN - missing value\n",
    "    train_data = train_data.dropna(how = 'any') \n",
    "    test_data = test_data.dropna(how = 'any')\n",
    "    \n",
    "    #Return Value\n",
    "    X_train = []\n",
    "    X_test = []\n",
    "    \n",
    "    #Tokenizer & Remove Stopwords\n",
    "    for train_sentence in train_data['document']:\n",
    "        temp_train = tokenizer.morphs(train_sentence)\n",
    "        temp_train = [word for word in temp_train if word not in stopwords]\n",
    "        X_train.append(temp_train)\n",
    "\n",
    "    for test_sentence in test_data['document']:\n",
    "        temp_test = tokenizer.morphs(test_sentence)\n",
    "        temp_test = [word for word in temp_test if word not in stopwords]\n",
    "        X_test.append(temp_test)\n",
    "    \n",
    "    # Create word_to_index as a dictionary\n",
    "    word_to_index = {}\n",
    "    \n",
    "    words = set()\n",
    "    for sentence in X_train:\n",
    "        for word in sentence:\n",
    "            words.add(word)\n",
    "    \n",
    "    for sentence in X_test:\n",
    "        for word in sentence:\n",
    "            words.add(word)\n",
    "    \n",
    "    for word in words:\n",
    "        if word not in word_to_index:\n",
    "            word_to_index[word] = len(word_to_index)\n",
    "\n",
    "    X_train_indices = []\n",
    "    X_test_indices = []\n",
    "    \n",
    "    for sentence in X_train:\n",
    "        X_train_indices.append([word_to_index.get(word) for word in sentence])\n",
    "    \n",
    "    for sentence in X_test:\n",
    "        X_test_indices.append([word_to_index.get(word) for word in sentence])\n",
    "    \n",
    "    y_train = np.array(list(train_data['label']))\n",
    "    y_test = np.array(list(test_data['label']))\n",
    "    \n",
    "    return X_train_indices, y_train, X_test_indices, y_test, word_to_index\n",
    "\n",
    "X_train, y_train, X_test, y_test, word_to_index = load_data(train_data, test_data)"
   ]
  },
  {
   "cell_type": "code",
   "execution_count": 55,
   "id": "8da0fa70",
   "metadata": {},
   "outputs": [],
   "source": [
    "tokenizer = Mecab()\n",
    "stopwords = ['의','가','이','은','들','는','좀','잘','걍','과','도','를','으로','자','에','와','한','하다']\n",
    "\n",
    "\n",
    "def load_data(train_data, test_data, num_words=10000):\n",
    "    train_data.drop_duplicates(subset=['document'], inplace=True)\n",
    "    train_data = train_data.dropna(how = 'any') \n",
    "    test_data.drop_duplicates(subset=['document'], inplace=True)\n",
    "    test_data = test_data.dropna(how = 'any') \n",
    "    \n",
    "    X_train = []\n",
    "    for sentence in train_data['document']:\n",
    "        temp_X = tokenizer.morphs(sentence) # 토큰화\n",
    "        temp_X = [word for word in temp_X if not word in stopwords] # 불용어 제거\n",
    "        X_train.append(temp_X)\n",
    "\n",
    "    X_test = []\n",
    "    for sentence in test_data['document']:\n",
    "        temp_X = tokenizer.morphs(sentence) # 토큰화\n",
    "        temp_X = [word for word in temp_X if not word in stopwords] # 불용어 제거\n",
    "        X_test.append(temp_X)\n",
    "    \n",
    "    words = np.concatenate(X_train).tolist()\n",
    "    counter = Counter(words)\n",
    "    counter = counter.most_common(10000-4)\n",
    "    vocab = ['', '', '', ''] + [key for key, _ in counter]\n",
    "    word_to_index = {word:index for index, word in enumerate(vocab)}\n",
    "    \n",
    "    word_to_index[\"<PAD>\"] = 0\n",
    "    word_to_index[\"<BOS>\"] = 1\n",
    "    word_to_index[\"<UNK>\"] = 2\n",
    "    \n",
    "    def wordlist_to_indexlist(wordlist):\n",
    "        return [word_to_index[word] if word in word_to_index else word_to_index[''] for word in wordlist]\n",
    "        \n",
    "    X_train = list(map(wordlist_to_indexlist, X_train))\n",
    "    X_test = list(map(wordlist_to_indexlist, X_test))\n",
    "        \n",
    "    return X_train, np.array(list(train_data['label'])), X_test, np.array(list(test_data['label'])), word_to_index\n",
    "    \n",
    "X_train, y_train, X_test, y_test, word_to_index = load_data(train_data, test_data)\n",
    "\n"
   ]
  },
  {
   "cell_type": "code",
   "execution_count": 56,
   "id": "c75ff785",
   "metadata": {},
   "outputs": [
    {
     "name": "stdout",
     "output_type": "stream",
     "text": [
      "Shpae of list X_train 146182\n",
      "Shpae of list y_train 146182\n",
      "Shpae of list X_test 49157\n",
      "Shpae of list y_test 49157\n",
      "Shpae of list word_to_index 10000\n"
     ]
    }
   ],
   "source": [
    "print(\"Shpae of list X_train\",len(X_train))\n",
    "print(\"Shpae of list y_train\",len(y_train))\n",
    "print(\"Shpae of list X_test\",len(X_test))\n",
    "print(\"Shpae of list y_test\",len(y_test))\n",
    "print(\"Shpae of list word_to_index\",len(word_to_index))"
   ]
  },
  {
   "cell_type": "code",
   "execution_count": 57,
   "id": "e710f056",
   "metadata": {},
   "outputs": [
    {
     "name": "stdout",
     "output_type": "stream",
     "text": [
      "[32, 74, 919, 4, 4, 39, 228, 20, 33, 748]\n"
     ]
    }
   ],
   "source": [
    "print(X_train[0])"
   ]
  },
  {
   "cell_type": "code",
   "execution_count": 49,
   "id": "6e787ffc",
   "metadata": {},
   "outputs": [],
   "source": [
    "# Function get_encoded_sentence\n",
    "# Input : One sentence, Word Dictionary\n",
    "# Return : Index list Vector\n",
    "def get_encoded_sentence(sentence, word_to_index):\n",
    "    return [word_to_index['<BOS>']]+[word_to_index[word] if word in word_to_index else word_to_index['<UNK>'] for word in sentence.split()]\n",
    "\n",
    "# Function get_encoded_sentences\n",
    "# Input : Multiple Sentences, Word Dictionary\n",
    "# Return : call get_encoded_sentence\n",
    "def get_encoded_sentences(sentences, word_to_index):\n",
    "    return [get_encoded_sentence(sentence, word_to_index) for sentence in sentences]\n",
    "\n",
    "# Function get_decoded_sentence\n",
    "# Input : encoded_sentence, Index Dictionary\n",
    "# Return : Decoded index vector to original sentence\n",
    "def get_decoded_sentence(encoded_sentence, bindex_to_word):\n",
    "    return ' '.join(index_to_word[index] if index in index_to_word else '<UNK>' for index in encoded_sentence[1:])  #[1:]를 통해 <BOS>를 제외\n",
    "\n",
    "# Function get_decoded_sentences\n",
    "# Input : encoded_sentences, Index Dictionary\n",
    "# Return : call get_deencoded_sentence\n",
    "def get_decoded_sentences(encoded_sentences, index_to_word):\n",
    "    return [get_decoded_sentence(encoded_sentence, index_to_word) for encoded_sentence in encoded_sentences]"
   ]
  },
  {
   "cell_type": "code",
   "execution_count": 60,
   "id": "6a52bce4",
   "metadata": {},
   "outputs": [],
   "source": [
    "index_to_word = {index:word for word, index in word_to_index.items()}"
   ]
  },
  {
   "cell_type": "markdown",
   "id": "7a9e5973",
   "metadata": {},
   "source": [
    "# 3. Preprocessing\n",
    "- [ ] Check the distribution of sentence lengths\n",
    "- [ ] Determine the maximum sentenc length\n",
    "- [ ] Add padding using keras.preprocessing.sequence.pad_sequences"
   ]
  },
  {
   "cell_type": "markdown",
   "id": "4ed759cb",
   "metadata": {},
   "source": [
    "## 3-1. Check the distribution of sentence lengths"
   ]
  },
  {
   "cell_type": "code",
   "execution_count": 66,
   "id": "2ee381bb",
   "metadata": {},
   "outputs": [
    {
     "name": "stdout",
     "output_type": "stream",
     "text": [
      "AVG sentence lengths :  15.96940191154864\n",
      "MAX sentence lengths:  116\n",
      "SD  sentence lengths:  12.843571191092\n"
     ]
    }
   ],
   "source": [
    "total_data = X_train + X_test\n",
    "num_tokens = [len(tokens) for tokens in total_data]\n",
    "num_tokens = np.array(num_tokens)\n",
    "\n",
    "print('AVG sentence lengths : ', np.mean(num_tokens))\n",
    "print('MAX sentence lengths: ', np.max(num_tokens))\n",
    "print('SD  sentence lengths: ', np.std(num_tokens))"
   ]
  },
  {
   "cell_type": "markdown",
   "id": "b0ad22c4",
   "metadata": {},
   "source": [
    "## 3-2. Determine the maximum sentenc length"
   ]
  },
  {
   "cell_type": "code",
   "execution_count": 68,
   "id": "ebc8ab15",
   "metadata": {},
   "outputs": [
    {
     "name": "stdout",
     "output_type": "stream",
     "text": [
      "pad_sequences maxlen :  41\n",
      "0.9342988343341575%of the total sentences are included within the maxlen setting. \n"
     ]
    }
   ],
   "source": [
    "max_tokens = np.mean(num_tokens) + 2 * np.std(num_tokens)\n",
    "maxlen = int(np.mean(num_tokens) + 2 * np.std(num_tokens))\n",
    "print('pad_sequences maxlen : ', maxlen)\n",
    "print(f'{np.sum(num_tokens < max_tokens) / len(num_tokens)}%of the total sentences are included within the maxlen setting. ')"
   ]
  },
  {
   "cell_type": "markdown",
   "id": "24e2139c",
   "metadata": {},
   "source": [
    "## 3-3. Add padding using keras.preprocessing.sequence.pad_sequences"
   ]
  },
  {
   "cell_type": "code",
   "execution_count": 72,
   "id": "a230d7f2",
   "metadata": {},
   "outputs": [
    {
     "name": "stdout",
     "output_type": "stream",
     "text": [
      "(146182, 41)\n",
      "(49157, 41)\n"
     ]
    }
   ],
   "source": [
    "X_train = tf.keras.preprocessing.sequence.pad_sequences(X_train,\n",
    "                                                        value=word_to_index[\"<PAD>\"],\n",
    "                                                        padding='pre', \n",
    "                                                        maxlen=maxlen)\n",
    "\n",
    "X_test = tf.keras.preprocessing.sequence.pad_sequences(X_test,\n",
    "                                                       value=word_to_index[\"<PAD>\"],\n",
    "                                                       padding='pre', \n",
    "                                                       maxlen=maxlen)\n",
    "\n",
    "print(X_train.shape)\n",
    "print(X_test.shape)"
   ]
  },
  {
   "cell_type": "markdown",
   "id": "644fdeec",
   "metadata": {},
   "source": [
    "# 4. Set Model and Validation set"
   ]
  },
  {
   "cell_type": "markdown",
   "id": "eb68b0ae",
   "metadata": {},
   "source": [
    "## 4-1. Set Model\n",
    "### First Model"
   ]
  },
  {
   "cell_type": "code",
   "execution_count": 76,
   "id": "b095ea1b",
   "metadata": {},
   "outputs": [
    {
     "name": "stdout",
     "output_type": "stream",
     "text": [
      "Model: \"sequential_3\"\n",
      "_________________________________________________________________\n",
      "Layer (type)                 Output Shape              Param #   \n",
      "=================================================================\n",
      "embedding_3 (Embedding)      (None, None, 16)          160000    \n",
      "_________________________________________________________________\n",
      "lstm_2 (LSTM)                (None, 8)                 800       \n",
      "_________________________________________________________________\n",
      "dense_6 (Dense)              (None, 8)                 72        \n",
      "_________________________________________________________________\n",
      "dense_7 (Dense)              (None, 1)                 9         \n",
      "=================================================================\n",
      "Total params: 160,881\n",
      "Trainable params: 160,881\n",
      "Non-trainable params: 0\n",
      "_________________________________________________________________\n"
     ]
    }
   ],
   "source": [
    "vocab_size = 10000    \n",
    "word_vector_dim = 16  \n",
    "\n",
    "model_01 = tf.keras.Sequential()\n",
    "model_01.add(tf.keras.layers.Embedding(vocab_size, word_vector_dim, input_shape=(None,)))\n",
    "model_01.add(tf.keras.layers.LSTM(8))\n",
    "model_01.add(tf.keras.layers.Dense(8, activation='relu'))\n",
    "model_01.add(tf.keras.layers.Dense(1, activation='sigmoid')) \n",
    "\n",
    "model_01.summary()"
   ]
  },
  {
   "cell_type": "markdown",
   "id": "0c615e2f",
   "metadata": {},
   "source": [
    "### Second Model"
   ]
  },
  {
   "cell_type": "code",
   "execution_count": 77,
   "id": "b8a88ced",
   "metadata": {},
   "outputs": [
    {
     "name": "stdout",
     "output_type": "stream",
     "text": [
      "Model: \"sequential_4\"\n",
      "_________________________________________________________________\n",
      "Layer (type)                 Output Shape              Param #   \n",
      "=================================================================\n",
      "embedding_4 (Embedding)      (None, None, 16)          160000    \n",
      "_________________________________________________________________\n",
      "conv1d_2 (Conv1D)            (None, None, 16)          1808      \n",
      "_________________________________________________________________\n",
      "max_pooling1d_1 (MaxPooling1 (None, None, 16)          0         \n",
      "_________________________________________________________________\n",
      "conv1d_3 (Conv1D)            (None, None, 16)          1808      \n",
      "_________________________________________________________________\n",
      "global_max_pooling1d_1 (Glob (None, 16)                0         \n",
      "_________________________________________________________________\n",
      "dense_8 (Dense)              (None, 8)                 136       \n",
      "_________________________________________________________________\n",
      "dense_9 (Dense)              (None, 1)                 9         \n",
      "=================================================================\n",
      "Total params: 163,761\n",
      "Trainable params: 163,761\n",
      "Non-trainable params: 0\n",
      "_________________________________________________________________\n"
     ]
    }
   ],
   "source": [
    "model_02 = tf.keras.Sequential()\n",
    "model_02.add(tf.keras.layers.Embedding(vocab_size, word_vector_dim, input_shape=(None,)))\n",
    "model_02.add(tf.keras.layers.Conv1D(16, 7, activation='relu'))\n",
    "model_02.add(tf.keras.layers.MaxPooling1D(5))\n",
    "model_02.add(tf.keras.layers.Conv1D(16, 7, activation='relu'))\n",
    "model_02.add(tf.keras.layers.GlobalMaxPooling1D())\n",
    "model_02.add(tf.keras.layers.Dense(8, activation='relu'))\n",
    "model_02.add(tf.keras.layers.Dense(1, activation='sigmoid'))\n",
    "\n",
    "model_02.summary()"
   ]
  },
  {
   "cell_type": "markdown",
   "id": "84cfa574",
   "metadata": {},
   "source": [
    "### Third Model"
   ]
  },
  {
   "cell_type": "code",
   "execution_count": 78,
   "id": "6257d4ba",
   "metadata": {},
   "outputs": [
    {
     "name": "stdout",
     "output_type": "stream",
     "text": [
      "Model: \"sequential_5\"\n",
      "_________________________________________________________________\n",
      "Layer (type)                 Output Shape              Param #   \n",
      "=================================================================\n",
      "embedding_5 (Embedding)      (None, None, 16)          160000    \n",
      "_________________________________________________________________\n",
      "bidirectional (Bidirectional (None, 16)                1600      \n",
      "_________________________________________________________________\n",
      "dense_10 (Dense)             (None, 8)                 136       \n",
      "_________________________________________________________________\n",
      "dense_11 (Dense)             (None, 1)                 9         \n",
      "=================================================================\n",
      "Total params: 161,745\n",
      "Trainable params: 161,745\n",
      "Non-trainable params: 0\n",
      "_________________________________________________________________\n"
     ]
    }
   ],
   "source": [
    "model_03 = tf.keras.Sequential()\n",
    "model_03.add(tf.keras.layers.Embedding(vocab_size, word_vector_dim, input_shape=(None,)))\n",
    "model_03.add(tf.keras.layers.Bidirectional(tf.keras.layers.LSTM(8)))  # Bidirectional LSTM\n",
    "model_03.add(tf.keras.layers.Dense(8, activation='relu'))\n",
    "model_03.add(tf.keras.layers.Dense(1, activation='sigmoid'))\n",
    "\n",
    "# Print the summary of the new model\n",
    "model_03.summary()"
   ]
  },
  {
   "cell_type": "markdown",
   "id": "8a67726f",
   "metadata": {},
   "source": [
    "## 4-2. Validation Set"
   ]
  },
  {
   "cell_type": "code",
   "execution_count": 80,
   "id": "4c6ed682",
   "metadata": {},
   "outputs": [
    {
     "name": "stdout",
     "output_type": "stream",
     "text": [
      "(106182, 41)\n",
      "(106182,)\n"
     ]
    }
   ],
   "source": [
    "##print(X_train.shape) (146182, 41)\n",
    "\n",
    "x_val = X_train[:40000]   \n",
    "y_val = y_train[:40000]\n",
    "\n",
    "partial_x_train = X_train[40000:]  \n",
    "partial_y_train = y_train[40000:]\n",
    "\n",
    "print(partial_x_train.shape)\n",
    "print(partial_y_train.shape)"
   ]
  },
  {
   "cell_type": "markdown",
   "id": "9f7a5e8a",
   "metadata": {},
   "source": [
    "# 5. Train Model"
   ]
  },
  {
   "cell_type": "code",
   "execution_count": 82,
   "id": "b597c37e",
   "metadata": {},
   "outputs": [
    {
     "name": "stdout",
     "output_type": "stream",
     "text": [
      "Epoch 1/40\n",
      "208/208 [==============================] - 33s 8ms/step - loss: 0.5173 - accuracy: 0.7710 - val_loss: 0.3756 - val_accuracy: 0.8414\n",
      "Epoch 2/40\n",
      "208/208 [==============================] - 1s 6ms/step - loss: 0.3469 - accuracy: 0.8549 - val_loss: 0.3497 - val_accuracy: 0.8496\n",
      "Epoch 3/40\n",
      "208/208 [==============================] - 1s 6ms/step - loss: 0.3185 - accuracy: 0.8679 - val_loss: 0.3470 - val_accuracy: 0.8516\n",
      "Epoch 4/40\n",
      "208/208 [==============================] - 1s 6ms/step - loss: 0.3023 - accuracy: 0.8758 - val_loss: 0.3538 - val_accuracy: 0.8488\n",
      "Epoch 5/40\n",
      "208/208 [==============================] - 1s 6ms/step - loss: 0.2910 - accuracy: 0.8812 - val_loss: 0.3507 - val_accuracy: 0.8502\n",
      "Epoch 6/40\n",
      "208/208 [==============================] - 1s 6ms/step - loss: 0.2798 - accuracy: 0.8863 - val_loss: 0.3532 - val_accuracy: 0.8482\n",
      "Epoch 7/40\n",
      "208/208 [==============================] - 1s 6ms/step - loss: 0.2700 - accuracy: 0.8911 - val_loss: 0.3650 - val_accuracy: 0.8470\n",
      "Epoch 8/40\n",
      "208/208 [==============================] - 1s 6ms/step - loss: 0.2606 - accuracy: 0.8966 - val_loss: 0.3658 - val_accuracy: 0.8472\n",
      "Epoch 9/40\n",
      "208/208 [==============================] - 1s 6ms/step - loss: 0.2521 - accuracy: 0.8998 - val_loss: 0.3796 - val_accuracy: 0.8456\n",
      "Epoch 10/40\n",
      "208/208 [==============================] - 1s 6ms/step - loss: 0.2434 - accuracy: 0.9043 - val_loss: 0.3818 - val_accuracy: 0.8444\n",
      "Epoch 11/40\n",
      "208/208 [==============================] - 1s 6ms/step - loss: 0.2347 - accuracy: 0.9074 - val_loss: 0.3983 - val_accuracy: 0.8426\n",
      "Epoch 12/40\n",
      "208/208 [==============================] - 1s 6ms/step - loss: 0.2268 - accuracy: 0.9115 - val_loss: 0.4021 - val_accuracy: 0.8409\n",
      "Epoch 13/40\n",
      "208/208 [==============================] - 1s 6ms/step - loss: 0.2209 - accuracy: 0.9134 - val_loss: 0.4092 - val_accuracy: 0.8400\n",
      "Epoch 14/40\n",
      "208/208 [==============================] - 1s 6ms/step - loss: 0.2121 - accuracy: 0.9167 - val_loss: 0.4267 - val_accuracy: 0.8417\n",
      "Epoch 15/40\n",
      "208/208 [==============================] - 1s 6ms/step - loss: 0.2039 - accuracy: 0.9207 - val_loss: 0.4392 - val_accuracy: 0.8403\n",
      "Epoch 16/40\n",
      "208/208 [==============================] - 1s 6ms/step - loss: 0.1977 - accuracy: 0.9227 - val_loss: 0.4420 - val_accuracy: 0.8385\n",
      "Epoch 17/40\n",
      "208/208 [==============================] - 1s 6ms/step - loss: 0.1897 - accuracy: 0.9263 - val_loss: 0.4626 - val_accuracy: 0.8385\n",
      "Epoch 18/40\n",
      "208/208 [==============================] - 1s 6ms/step - loss: 0.1823 - accuracy: 0.9292 - val_loss: 0.4671 - val_accuracy: 0.8370\n",
      "Epoch 19/40\n",
      "208/208 [==============================] - 1s 6ms/step - loss: 0.1758 - accuracy: 0.9320 - val_loss: 0.4963 - val_accuracy: 0.8367\n",
      "Epoch 20/40\n",
      "208/208 [==============================] - 1s 6ms/step - loss: 0.1690 - accuracy: 0.9344 - val_loss: 0.4956 - val_accuracy: 0.8335\n",
      "Epoch 21/40\n",
      "208/208 [==============================] - 1s 6ms/step - loss: 0.1634 - accuracy: 0.9374 - val_loss: 0.5336 - val_accuracy: 0.8305\n",
      "Epoch 22/40\n",
      "208/208 [==============================] - 1s 6ms/step - loss: 0.1587 - accuracy: 0.9395 - val_loss: 0.5228 - val_accuracy: 0.8338\n",
      "Epoch 23/40\n",
      "208/208 [==============================] - 1s 6ms/step - loss: 0.1523 - accuracy: 0.9424 - val_loss: 0.5282 - val_accuracy: 0.8332\n",
      "Epoch 24/40\n",
      "208/208 [==============================] - 1s 6ms/step - loss: 0.1464 - accuracy: 0.9451 - val_loss: 0.5679 - val_accuracy: 0.8331\n",
      "Epoch 25/40\n",
      "208/208 [==============================] - 1s 6ms/step - loss: 0.1419 - accuracy: 0.9467 - val_loss: 0.5839 - val_accuracy: 0.8301\n",
      "Epoch 26/40\n",
      "208/208 [==============================] - 1s 6ms/step - loss: 0.1371 - accuracy: 0.9491 - val_loss: 0.5842 - val_accuracy: 0.8316\n",
      "Epoch 27/40\n",
      "208/208 [==============================] - 1s 6ms/step - loss: 0.1343 - accuracy: 0.9506 - val_loss: 0.5952 - val_accuracy: 0.8303\n",
      "Epoch 28/40\n",
      "208/208 [==============================] - 1s 6ms/step - loss: 0.1287 - accuracy: 0.9532 - val_loss: 0.6017 - val_accuracy: 0.8295\n",
      "Epoch 29/40\n",
      "208/208 [==============================] - 1s 6ms/step - loss: 0.1265 - accuracy: 0.9541 - val_loss: 0.6130 - val_accuracy: 0.8279\n",
      "Epoch 30/40\n",
      "208/208 [==============================] - 1s 6ms/step - loss: 0.1216 - accuracy: 0.9561 - val_loss: 0.6289 - val_accuracy: 0.8270\n",
      "Epoch 31/40\n",
      "208/208 [==============================] - 1s 6ms/step - loss: 0.1190 - accuracy: 0.9576 - val_loss: 0.6501 - val_accuracy: 0.8296\n",
      "Epoch 32/40\n",
      "208/208 [==============================] - 1s 6ms/step - loss: 0.1137 - accuracy: 0.9596 - val_loss: 0.6607 - val_accuracy: 0.8276\n",
      "Epoch 33/40\n",
      "208/208 [==============================] - 1s 6ms/step - loss: 0.1146 - accuracy: 0.9595 - val_loss: 0.6687 - val_accuracy: 0.8256\n",
      "Epoch 34/40\n",
      "208/208 [==============================] - 1s 6ms/step - loss: 0.1089 - accuracy: 0.9616 - val_loss: 0.6848 - val_accuracy: 0.8281\n",
      "Epoch 35/40\n",
      "208/208 [==============================] - 1s 6ms/step - loss: 0.1077 - accuracy: 0.9620 - val_loss: 0.6897 - val_accuracy: 0.8281\n",
      "Epoch 36/40\n",
      "208/208 [==============================] - 1s 6ms/step - loss: 0.1069 - accuracy: 0.9626 - val_loss: 0.6990 - val_accuracy: 0.8235\n",
      "Epoch 37/40\n",
      "208/208 [==============================] - 1s 6ms/step - loss: 0.1017 - accuracy: 0.9644 - val_loss: 0.7056 - val_accuracy: 0.8256\n",
      "Epoch 38/40\n",
      "208/208 [==============================] - 1s 6ms/step - loss: 0.1007 - accuracy: 0.9651 - val_loss: 0.7527 - val_accuracy: 0.8219\n",
      "Epoch 39/40\n",
      "208/208 [==============================] - 1s 6ms/step - loss: 0.0964 - accuracy: 0.9663 - val_loss: 0.7440 - val_accuracy: 0.8247\n",
      "Epoch 40/40\n",
      "208/208 [==============================] - 1s 6ms/step - loss: 0.0953 - accuracy: 0.9667 - val_loss: 0.7794 - val_accuracy: 0.8274\n",
      "Epoch 1/40\n",
      "208/208 [==============================] - 19s 7ms/step - loss: 0.5132 - accuracy: 0.7393 - val_loss: 0.3647 - val_accuracy: 0.8417\n",
      "Epoch 2/40\n",
      "208/208 [==============================] - 1s 5ms/step - loss: 0.3354 - accuracy: 0.8572 - val_loss: 0.3483 - val_accuracy: 0.8493\n",
      "Epoch 3/40\n",
      "208/208 [==============================] - 1s 5ms/step - loss: 0.3005 - accuracy: 0.8759 - val_loss: 0.3462 - val_accuracy: 0.8508\n",
      "Epoch 4/40\n",
      "208/208 [==============================] - 1s 5ms/step - loss: 0.2739 - accuracy: 0.8885 - val_loss: 0.3461 - val_accuracy: 0.8513\n",
      "Epoch 5/40\n",
      "208/208 [==============================] - 1s 5ms/step - loss: 0.2470 - accuracy: 0.9025 - val_loss: 0.3556 - val_accuracy: 0.8505\n",
      "Epoch 6/40\n",
      "208/208 [==============================] - 1s 5ms/step - loss: 0.2178 - accuracy: 0.9164 - val_loss: 0.3728 - val_accuracy: 0.8495\n",
      "Epoch 7/40\n",
      "208/208 [==============================] - 1s 5ms/step - loss: 0.1876 - accuracy: 0.9313 - val_loss: 0.3980 - val_accuracy: 0.8473\n",
      "Epoch 8/40\n",
      "208/208 [==============================] - 1s 5ms/step - loss: 0.1585 - accuracy: 0.9451 - val_loss: 0.4341 - val_accuracy: 0.8434\n",
      "Epoch 9/40\n",
      "208/208 [==============================] - 1s 5ms/step - loss: 0.1319 - accuracy: 0.9564 - val_loss: 0.4721 - val_accuracy: 0.8419\n",
      "Epoch 10/40\n",
      "208/208 [==============================] - 1s 5ms/step - loss: 0.1106 - accuracy: 0.9646 - val_loss: 0.5141 - val_accuracy: 0.8388\n",
      "Epoch 11/40\n",
      "208/208 [==============================] - 1s 5ms/step - loss: 0.0928 - accuracy: 0.9718 - val_loss: 0.5592 - val_accuracy: 0.8352\n",
      "Epoch 12/40\n",
      "208/208 [==============================] - 1s 5ms/step - loss: 0.0801 - accuracy: 0.9764 - val_loss: 0.5991 - val_accuracy: 0.8318\n",
      "Epoch 13/40\n",
      "208/208 [==============================] - 1s 5ms/step - loss: 0.0688 - accuracy: 0.9801 - val_loss: 0.6676 - val_accuracy: 0.8295\n",
      "Epoch 14/40\n",
      "208/208 [==============================] - 1s 5ms/step - loss: 0.0603 - accuracy: 0.9826 - val_loss: 0.6825 - val_accuracy: 0.8249\n",
      "Epoch 15/40\n",
      "208/208 [==============================] - 1s 5ms/step - loss: 0.0526 - accuracy: 0.9852 - val_loss: 0.7372 - val_accuracy: 0.8254\n",
      "Epoch 16/40\n",
      "208/208 [==============================] - 1s 5ms/step - loss: 0.0464 - accuracy: 0.9873 - val_loss: 0.7816 - val_accuracy: 0.8235\n",
      "Epoch 17/40\n",
      "208/208 [==============================] - 1s 5ms/step - loss: 0.0430 - accuracy: 0.9879 - val_loss: 0.8336 - val_accuracy: 0.8229\n",
      "Epoch 18/40\n"
     ]
    },
    {
     "name": "stdout",
     "output_type": "stream",
     "text": [
      "208/208 [==============================] - 1s 5ms/step - loss: 0.0392 - accuracy: 0.9889 - val_loss: 0.8693 - val_accuracy: 0.8211\n",
      "Epoch 19/40\n",
      "208/208 [==============================] - 1s 5ms/step - loss: 0.0362 - accuracy: 0.9897 - val_loss: 0.9043 - val_accuracy: 0.8198\n",
      "Epoch 20/40\n",
      "208/208 [==============================] - 1s 5ms/step - loss: 0.0340 - accuracy: 0.9903 - val_loss: 0.9537 - val_accuracy: 0.8175\n",
      "Epoch 21/40\n",
      "208/208 [==============================] - 1s 5ms/step - loss: 0.0317 - accuracy: 0.9909 - val_loss: 1.0089 - val_accuracy: 0.8164\n",
      "Epoch 22/40\n",
      "208/208 [==============================] - 1s 5ms/step - loss: 0.0292 - accuracy: 0.9914 - val_loss: 1.0425 - val_accuracy: 0.8134\n",
      "Epoch 23/40\n",
      "208/208 [==============================] - 1s 5ms/step - loss: 0.0278 - accuracy: 0.9918 - val_loss: 1.0758 - val_accuracy: 0.8144\n",
      "Epoch 24/40\n",
      "208/208 [==============================] - 1s 5ms/step - loss: 0.0264 - accuracy: 0.9919 - val_loss: 1.1303 - val_accuracy: 0.8162\n",
      "Epoch 25/40\n",
      "208/208 [==============================] - 1s 5ms/step - loss: 0.0264 - accuracy: 0.9919 - val_loss: 1.1200 - val_accuracy: 0.8116\n",
      "Epoch 26/40\n",
      "208/208 [==============================] - 1s 5ms/step - loss: 0.0273 - accuracy: 0.9911 - val_loss: 1.1822 - val_accuracy: 0.8131\n",
      "Epoch 27/40\n",
      "208/208 [==============================] - 1s 5ms/step - loss: 0.0286 - accuracy: 0.9906 - val_loss: 1.1665 - val_accuracy: 0.8140\n",
      "Epoch 28/40\n",
      "208/208 [==============================] - 1s 5ms/step - loss: 0.0263 - accuracy: 0.9916 - val_loss: 1.1983 - val_accuracy: 0.8141\n",
      "Epoch 29/40\n",
      "208/208 [==============================] - 1s 5ms/step - loss: 0.0230 - accuracy: 0.9927 - val_loss: 1.2192 - val_accuracy: 0.8132\n",
      "Epoch 30/40\n",
      "208/208 [==============================] - 1s 5ms/step - loss: 0.0203 - accuracy: 0.9938 - val_loss: 1.2581 - val_accuracy: 0.8143\n",
      "Epoch 31/40\n",
      "208/208 [==============================] - 1s 5ms/step - loss: 0.0184 - accuracy: 0.9943 - val_loss: 1.2509 - val_accuracy: 0.8122\n",
      "Epoch 32/40\n",
      "208/208 [==============================] - 1s 5ms/step - loss: 0.0176 - accuracy: 0.9947 - val_loss: 1.3065 - val_accuracy: 0.8117\n",
      "Epoch 33/40\n",
      "208/208 [==============================] - 1s 5ms/step - loss: 0.0167 - accuracy: 0.9946 - val_loss: 1.3489 - val_accuracy: 0.8111\n",
      "Epoch 34/40\n",
      "208/208 [==============================] - 1s 5ms/step - loss: 0.0161 - accuracy: 0.9950 - val_loss: 1.3861 - val_accuracy: 0.8105\n",
      "Epoch 35/40\n",
      "208/208 [==============================] - 1s 5ms/step - loss: 0.0179 - accuracy: 0.9940 - val_loss: 1.4231 - val_accuracy: 0.8113\n",
      "Epoch 36/40\n",
      "208/208 [==============================] - 1s 5ms/step - loss: 0.0218 - accuracy: 0.9922 - val_loss: 1.3963 - val_accuracy: 0.8150\n",
      "Epoch 37/40\n",
      "208/208 [==============================] - 1s 5ms/step - loss: 0.0256 - accuracy: 0.9912 - val_loss: 1.3669 - val_accuracy: 0.8140\n",
      "Epoch 38/40\n",
      "208/208 [==============================] - 1s 5ms/step - loss: 0.0243 - accuracy: 0.9912 - val_loss: 1.3438 - val_accuracy: 0.8088\n",
      "Epoch 39/40\n",
      "208/208 [==============================] - 1s 5ms/step - loss: 0.0194 - accuracy: 0.9933 - val_loss: 1.3985 - val_accuracy: 0.8110\n",
      "Epoch 40/40\n",
      "208/208 [==============================] - 1s 5ms/step - loss: 0.0157 - accuracy: 0.9948 - val_loss: 1.4690 - val_accuracy: 0.8129\n",
      "Epoch 1/40\n",
      "208/208 [==============================] - 5s 12ms/step - loss: 0.5023 - accuracy: 0.7626 - val_loss: 0.3648 - val_accuracy: 0.8422\n",
      "Epoch 2/40\n",
      "208/208 [==============================] - 2s 8ms/step - loss: 0.3415 - accuracy: 0.8550 - val_loss: 0.3494 - val_accuracy: 0.8478\n",
      "Epoch 3/40\n",
      "208/208 [==============================] - 2s 8ms/step - loss: 0.3190 - accuracy: 0.8656 - val_loss: 0.3482 - val_accuracy: 0.8486\n",
      "Epoch 4/40\n",
      "208/208 [==============================] - 2s 8ms/step - loss: 0.3043 - accuracy: 0.8727 - val_loss: 0.3515 - val_accuracy: 0.8480\n",
      "Epoch 5/40\n",
      "208/208 [==============================] - 2s 8ms/step - loss: 0.2945 - accuracy: 0.8772 - val_loss: 0.3564 - val_accuracy: 0.8472\n",
      "Epoch 6/40\n",
      "208/208 [==============================] - 2s 8ms/step - loss: 0.2851 - accuracy: 0.8821 - val_loss: 0.3649 - val_accuracy: 0.8468\n",
      "Epoch 7/40\n",
      "208/208 [==============================] - 2s 8ms/step - loss: 0.2751 - accuracy: 0.8867 - val_loss: 0.3664 - val_accuracy: 0.8457\n",
      "Epoch 8/40\n",
      "208/208 [==============================] - 2s 8ms/step - loss: 0.2658 - accuracy: 0.8920 - val_loss: 0.3766 - val_accuracy: 0.8415\n",
      "Epoch 9/40\n",
      "208/208 [==============================] - 2s 8ms/step - loss: 0.2578 - accuracy: 0.8958 - val_loss: 0.3836 - val_accuracy: 0.8433\n",
      "Epoch 10/40\n",
      "208/208 [==============================] - 2s 8ms/step - loss: 0.2493 - accuracy: 0.8995 - val_loss: 0.3839 - val_accuracy: 0.8422\n",
      "Epoch 11/40\n",
      "208/208 [==============================] - 2s 8ms/step - loss: 0.2427 - accuracy: 0.9030 - val_loss: 0.3916 - val_accuracy: 0.8425\n",
      "Epoch 12/40\n",
      "208/208 [==============================] - 2s 8ms/step - loss: 0.2349 - accuracy: 0.9070 - val_loss: 0.4018 - val_accuracy: 0.8385\n",
      "Epoch 13/40\n",
      "208/208 [==============================] - 2s 8ms/step - loss: 0.2290 - accuracy: 0.9085 - val_loss: 0.4067 - val_accuracy: 0.8380\n",
      "Epoch 14/40\n",
      "208/208 [==============================] - 2s 8ms/step - loss: 0.2214 - accuracy: 0.9127 - val_loss: 0.4201 - val_accuracy: 0.8385\n",
      "Epoch 15/40\n",
      "208/208 [==============================] - 2s 8ms/step - loss: 0.2136 - accuracy: 0.9154 - val_loss: 0.4284 - val_accuracy: 0.8365\n",
      "Epoch 16/40\n",
      "208/208 [==============================] - 2s 8ms/step - loss: 0.2055 - accuracy: 0.9187 - val_loss: 0.4342 - val_accuracy: 0.8365\n",
      "Epoch 17/40\n",
      "208/208 [==============================] - 2s 8ms/step - loss: 0.1992 - accuracy: 0.9217 - val_loss: 0.4523 - val_accuracy: 0.8365\n",
      "Epoch 18/40\n",
      "208/208 [==============================] - 2s 8ms/step - loss: 0.1906 - accuracy: 0.9252 - val_loss: 0.4620 - val_accuracy: 0.8361\n",
      "Epoch 19/40\n",
      "208/208 [==============================] - 2s 8ms/step - loss: 0.1826 - accuracy: 0.9293 - val_loss: 0.4950 - val_accuracy: 0.8334\n",
      "Epoch 20/40\n",
      "208/208 [==============================] - 2s 8ms/step - loss: 0.1762 - accuracy: 0.9320 - val_loss: 0.5097 - val_accuracy: 0.8335\n",
      "Epoch 21/40\n",
      "208/208 [==============================] - 2s 8ms/step - loss: 0.1710 - accuracy: 0.9339 - val_loss: 0.5114 - val_accuracy: 0.8326\n",
      "Epoch 22/40\n",
      "208/208 [==============================] - 2s 8ms/step - loss: 0.1662 - accuracy: 0.9361 - val_loss: 0.5259 - val_accuracy: 0.8335\n",
      "Epoch 23/40\n",
      "208/208 [==============================] - 2s 8ms/step - loss: 0.1588 - accuracy: 0.9392 - val_loss: 0.5411 - val_accuracy: 0.8329\n",
      "Epoch 24/40\n",
      "208/208 [==============================] - 2s 8ms/step - loss: 0.1537 - accuracy: 0.9417 - val_loss: 0.5531 - val_accuracy: 0.8319\n",
      "Epoch 25/40\n",
      "208/208 [==============================] - 2s 8ms/step - loss: 0.1488 - accuracy: 0.9438 - val_loss: 0.5948 - val_accuracy: 0.8312\n",
      "Epoch 26/40\n",
      "208/208 [==============================] - 2s 8ms/step - loss: 0.1461 - accuracy: 0.9454 - val_loss: 0.5951 - val_accuracy: 0.8305\n",
      "Epoch 27/40\n",
      "208/208 [==============================] - 2s 8ms/step - loss: 0.1406 - accuracy: 0.9471 - val_loss: 0.6346 - val_accuracy: 0.8292\n",
      "Epoch 28/40\n",
      "208/208 [==============================] - 2s 8ms/step - loss: 0.1360 - accuracy: 0.9490 - val_loss: 0.6477 - val_accuracy: 0.8277\n",
      "Epoch 29/40\n",
      "208/208 [==============================] - 2s 8ms/step - loss: 0.1325 - accuracy: 0.9506 - val_loss: 0.6447 - val_accuracy: 0.8268\n",
      "Epoch 30/40\n",
      "208/208 [==============================] - 2s 8ms/step - loss: 0.1275 - accuracy: 0.9533 - val_loss: 0.6687 - val_accuracy: 0.8266\n",
      "Epoch 31/40\n",
      "208/208 [==============================] - 2s 8ms/step - loss: 0.1250 - accuracy: 0.9545 - val_loss: 0.6995 - val_accuracy: 0.8267\n",
      "Epoch 32/40\n",
      "208/208 [==============================] - 2s 8ms/step - loss: 0.1213 - accuracy: 0.9561 - val_loss: 0.7200 - val_accuracy: 0.8273\n",
      "Epoch 33/40\n",
      "208/208 [==============================] - 2s 8ms/step - loss: 0.1180 - accuracy: 0.9576 - val_loss: 0.7393 - val_accuracy: 0.8260\n",
      "Epoch 34/40\n",
      "208/208 [==============================] - 2s 8ms/step - loss: 0.1159 - accuracy: 0.9579 - val_loss: 0.7526 - val_accuracy: 0.8240\n",
      "Epoch 35/40\n"
     ]
    },
    {
     "name": "stdout",
     "output_type": "stream",
     "text": [
      "208/208 [==============================] - 2s 8ms/step - loss: 0.1143 - accuracy: 0.9586 - val_loss: 0.7346 - val_accuracy: 0.8253\n",
      "Epoch 36/40\n",
      "208/208 [==============================] - 2s 8ms/step - loss: 0.1092 - accuracy: 0.9605 - val_loss: 0.7689 - val_accuracy: 0.8249\n",
      "Epoch 37/40\n",
      "208/208 [==============================] - 2s 9ms/step - loss: 0.1074 - accuracy: 0.9621 - val_loss: 0.7602 - val_accuracy: 0.8242\n",
      "Epoch 38/40\n",
      "208/208 [==============================] - 2s 8ms/step - loss: 0.1037 - accuracy: 0.9633 - val_loss: 0.8140 - val_accuracy: 0.8225\n",
      "Epoch 39/40\n",
      "208/208 [==============================] - 2s 8ms/step - loss: 0.1021 - accuracy: 0.9638 - val_loss: 0.8342 - val_accuracy: 0.8245\n",
      "Epoch 40/40\n",
      "208/208 [==============================] - 2s 8ms/step - loss: 0.1001 - accuracy: 0.9651 - val_loss: 0.8513 - val_accuracy: 0.8238\n"
     ]
    }
   ],
   "source": [
    "model_01.compile(optimizer='adam',\n",
    "              loss='binary_crossentropy',\n",
    "              metrics=['accuracy'])\n",
    "              \n",
    "model_02.compile(optimizer='adam',\n",
    "              loss='binary_crossentropy',\n",
    "              metrics=['accuracy'])\n",
    "\n",
    "model_03.compile(optimizer='adam',\n",
    "              loss='binary_crossentropy',\n",
    "              metrics=['accuracy'])\n",
    "    \n",
    "epochs=40 \n",
    "\n",
    "history_01 = model_01.fit(partial_x_train,\n",
    "                    partial_y_train,\n",
    "                    epochs=epochs,\n",
    "                    batch_size=512,\n",
    "                    validation_data=(x_val, y_val),\n",
    "                    verbose=1)\n",
    "\n",
    "history_02 = model_02.fit(partial_x_train,\n",
    "                    partial_y_train,\n",
    "                    epochs=epochs,\n",
    "                    batch_size=512,\n",
    "                    validation_data=(x_val, y_val),\n",
    "                    verbose=1)\n",
    "\n",
    "history_03 = model_03.fit(partial_x_train,\n",
    "                    partial_y_train,\n",
    "                    epochs=epochs,\n",
    "                    batch_size=512,\n",
    "                    validation_data=(x_val, y_val),\n",
    "                    verbose=1)"
   ]
  },
  {
   "cell_type": "code",
   "execution_count": 86,
   "id": "70cd3792",
   "metadata": {},
   "outputs": [
    {
     "name": "stdout",
     "output_type": "stream",
     "text": [
      "1537/1537 - 3s - loss: 0.7894 - accuracy: 0.8236\n",
      "1537/1537 - 2s - loss: 1.5206 - accuracy: 0.8055\n",
      "1537/1537 - 4s - loss: 0.8726 - accuracy: 0.8196\n",
      "[0.789392352104187, 0.8236466646194458]\n",
      "[1.5205879211425781, 0.805541455745697]\n",
      "[0.8725547194480896, 0.8195984363555908]\n"
     ]
    }
   ],
   "source": [
    "results_01 = model_01.evaluate(X_test,  y_test, verbose=2)\n",
    "\n",
    "results_02 = model_02.evaluate(X_test,  y_test, verbose=2)\n",
    "\n",
    "results_03 = model_03.evaluate(X_test,  y_test, verbose=2)\n",
    "\n",
    "print(results_01)\n",
    "\n",
    "print(results_02)\n",
    "\n",
    "print(results_03)\n"
   ]
  },
  {
   "cell_type": "markdown",
   "id": "2ab6c03f",
   "metadata": {},
   "source": [
    "# 6. Loss Accuracy graph"
   ]
  },
  {
   "cell_type": "code",
   "execution_count": 87,
   "id": "e98be65a",
   "metadata": {},
   "outputs": [
    {
     "data": {
      "image/png": "[encoded data removed]",
      "text/plain": [
       "<Figure size 432x288 with 1 Axes>"
      ]
     },
     "metadata": {
      "needs_background": "light"
     },
     "output_type": "display_data"
    }
   ],
   "source": [
    "import matplotlib.pyplot as plt\n",
    "\n",
    "\n",
    "acc = history_dict_01['accuracy']\n",
    "val_acc = history_dict_01['val_accuracy']\n",
    "loss = history_dict_01['loss']\n",
    "val_loss = history_dict_01['val_loss']\n",
    "epochs = range(1, len(acc) + 1)\n",
    "\n",
    "plt.plot(epochs, loss, 'bo', label='Training loss')\n",
    "plt.plot(epochs, val_loss, 'b', label='Validation loss')\n",
    "plt.title('Model 01')\n",
    "plt.xlabel('Epochs')\n",
    "plt.ylabel('Loss')\n",
    "plt.legend()\n",
    "\n",
    "plt.show()"
   ]
  },
  {
   "cell_type": "code",
   "execution_count": 88,
   "id": "d8d262e0",
   "metadata": {},
   "outputs": [
    {
     "data": {
      "image/png": "[encoded data removed]",
      "text/plain": [
       "<Figure size 432x288 with 1 Axes>"
      ]
     },
     "metadata": {
      "needs_background": "light"
     },
     "output_type": "display_data"
    }
   ],
   "source": [
    "acc = history_dict_02['accuracy']\n",
    "val_acc = history_dict_02['val_accuracy']\n",
    "loss = history_dict_02['loss']\n",
    "val_loss = history_dict_02['val_loss']\n",
    "epochs = range(1, len(acc) + 1)\n",
    "\n",
    "plt.plot(epochs, loss, 'bo', label='Training loss')\n",
    "plt.plot(epochs, val_loss, 'b', label='Validation loss')\n",
    "plt.title('Model 02')\n",
    "plt.xlabel('Epochs')\n",
    "plt.ylabel('Loss')\n",
    "plt.legend()\n",
    "\n",
    "plt.show()"
   ]
  },
  {
   "cell_type": "code",
   "execution_count": 89,
   "id": "65fb115d",
   "metadata": {},
   "outputs": [
    {
     "data": {
      "image/png": "[encoded data removed]",
      "text/plain": [
       "<Figure size 432x288 with 1 Axes>"
      ]
     },
     "metadata": {
      "needs_background": "light"
     },
     "output_type": "display_data"
    }
   ],
   "source": [
    "acc = history_dict_03['accuracy']\n",
    "val_acc = history_dict_03['val_accuracy']\n",
    "loss = history_dict_03['loss']\n",
    "val_loss = history_dict_03['val_loss']\n",
    "epochs = range(1, len(acc) + 1)\n",
    "\n",
    "plt.plot(epochs, loss, 'bo', label='Training loss')\n",
    "plt.plot(epochs, val_loss, 'b', label='Validation loss')\n",
    "plt.title('Model 03')\n",
    "plt.xlabel('Epochs')\n",
    "plt.ylabel('Loss')\n",
    "plt.legend()\n",
    "\n",
    "plt.show()"
   ]
  },
  {
   "cell_type": "markdown",
   "id": "92edc13e",
   "metadata": {},
   "source": [
    "## 6-1. Train Result\n",
    "\n",
    "### CNN has an overfitting issue\n",
    "As you can see on the graphs, all of the validation loss are showing an increasing trend.  \n",
    "Especially, the validation loss of model 2, using CNN, records a highest value and the increasment.  \n",
    "This suggests that a CNN model may encounter overfitting issues in sequential language data.  \n",
    "  \n",
    "### Using RNN\n",
    "I will use **model 1** because it indicated the highest accuracy and the lowes loss value on the test value set.  "
   ]
  },
  {
   "cell_type": "markdown",
   "id": "159a61e5",
   "metadata": {},
   "source": [
    "# 7. Verify the Embedding layer is correctly configured"
   ]
  },
  {
   "cell_type": "code",
   "execution_count": 90,
   "id": "aec932d8",
   "metadata": {},
   "outputs": [],
   "source": [
    "from gensim.models.keyedvectors import Word2VecKeyedVectors\n",
    "\n",
    "word2vec_file_path = '/aiffel/aiffel/AIFEL_Quest/Exploration_04/sentiment_classification/data/word2vec_project.txt'\n",
    "f = open(word2vec_file_path, 'w')\n",
    "f.write('{} {}\\n'.format(vocab_size-4, word_vector_dim))\n",
    "\n",
    "vectors = model_01.get_weights()[0]\n",
    "for i in range(4,vocab_size):\n",
    "    f.write('{} {}\\n'.format(index_to_word[i], ' '.join(map(str, list(vectors[i, :])))))\n",
    "f.close()"
   ]
  },
  {
   "cell_type": "code",
   "execution_count": 91,
   "id": "70e21428",
   "metadata": {},
   "outputs": [
    {
     "data": {
      "text/plain": [
       "[('고급', 0.9466866850852966),\n",
       " ('샵', 0.9381765127182007),\n",
       " ('드셨', 0.9345556497573853),\n",
       " ('여운', 0.9324244856834412),\n",
       " ('만능', 0.9322518706321716),\n",
       " ('깊', 0.9312480092048645),\n",
       " ('냉혹', 0.9295480251312256),\n",
       " ('귀엽', 0.9265230298042297),\n",
       " ('완벽', 0.9220166206359863),\n",
       " ('파도', 0.9219453930854797)]"
      ]
     },
     "execution_count": 91,
     "metadata": {},
     "output_type": "execute_result"
    }
   ],
   "source": [
    "word_vectors = Word2VecKeyedVectors.load_word2vec_format(word2vec_file_path, binary=False)\n",
    "word_vectors.similar_by_word(\"사랑\")"
   ]
  },
  {
   "cell_type": "markdown",
   "id": "ec84b7c7",
   "metadata": {},
   "source": [
    "## 7-1. Result of embedding layer\n",
    "The results from the embedding layer, as observed in the previous cell, indicate that words like '사랑' and others   appear to lack meaningful representations. This suggests that the embedding layer is not effectively capturing   semantic information."
   ]
  },
  {
   "cell_type": "markdown",
   "id": "c321f565",
   "metadata": {},
   "source": [
    "# 8. Improve performence using 한국어 Word2Vec "
   ]
  },
  {
   "cell_type": "code",
   "execution_count": 100,
   "id": "6580c060",
   "metadata": {},
   "outputs": [],
   "source": [
    "temporary_filepath = 'sentiment_classification/data/word2vec_ko.model'\n",
    "saved_model = gensim.models.Word2Vec.load(temporary_filepath)\n",
    "word_vectors = saved_model.wv"
   ]
  },
  {
   "cell_type": "code",
   "execution_count": 101,
   "id": "ff4c08ad",
   "metadata": {},
   "outputs": [
    {
     "data": {
      "text/plain": [
       "[('이별', 0.7626414895057678),\n",
       " ('행복', 0.7550068497657776),\n",
       " ('슬픔', 0.7381505966186523),\n",
       " ('유혹', 0.7238055467605591),\n",
       " ('그리움', 0.7167419195175171),\n",
       " ('추억', 0.7143999338150024),\n",
       " ('꿈', 0.7089294195175171),\n",
       " ('애정', 0.7066588997840881),\n",
       " ('포옹', 0.7034594416618347),\n",
       " ('마음', 0.6972615718841553)]"
      ]
     },
     "execution_count": 101,
     "metadata": {},
     "output_type": "execute_result"
    }
   ],
   "source": [
    "word_vectors.similar_by_word(\"사랑\")"
   ]
  },
  {
   "cell_type": "code",
   "execution_count": 105,
   "id": "2078c097",
   "metadata": {},
   "outputs": [],
   "source": [
    "vocab_size = 10000\n",
    "word_vector_dim = 100  \n",
    "embedding_matrix = np.random.rand(vocab_size, word_vector_dim)\n",
    "\n",
    "\n",
    "for i in range(3,vocab_size):\n",
    "    if index_to_word[i] in word_vectors:\n",
    "        embedding_matrix[i] = word_vectors[index_to_word[i]]"
   ]
  },
  {
   "cell_type": "code",
   "execution_count": 111,
   "id": "c9fee873",
   "metadata": {},
   "outputs": [
    {
     "name": "stdout",
     "output_type": "stream",
     "text": [
      "Model: \"sequential_7\"\n",
      "_________________________________________________________________\n",
      "Layer (type)                 Output Shape              Param #   \n",
      "=================================================================\n",
      "embedding_7 (Embedding)      (None, 41, 100)           1000000   \n",
      "_________________________________________________________________\n",
      "lstm_5 (LSTM)                (None, 16)                7488      \n",
      "_________________________________________________________________\n",
      "dense_14 (Dense)             (None, 16)                272       \n",
      "_________________________________________________________________\n",
      "dense_15 (Dense)             (None, 1)                 17        \n",
      "=================================================================\n",
      "Total params: 1,007,777\n",
      "Trainable params: 1,007,777\n",
      "Non-trainable params: 0\n",
      "_________________________________________________________________\n"
     ]
    }
   ],
   "source": [
    "from tensorflow.keras.initializers import Constant\n",
    "\n",
    "\n",
    "model_04 = tf.keras.Sequential()\n",
    "model_04.add(tf.keras.layers.Embedding(vocab_size,\n",
    "                                 word_vector_dim, \n",
    "                                 embeddings_initializer=Constant(embedding_matrix),  \n",
    "                                 input_length=maxlen, \n",
    "                                 trainable=True))\n",
    "model_04.add(tf.keras.layers.LSTM(8))\n",
    "model_04.add(tf.keras.layers.Dense(8, activation='relu'))\n",
    "model_04.add(tf.keras.layers.Dense(1, activation='sigmoid')) \n",
    "\n",
    "model_04.summary()"
   ]
  },
  {
   "cell_type": "code",
   "execution_count": 112,
   "id": "4a8dc29f",
   "metadata": {},
   "outputs": [
    {
     "name": "stdout",
     "output_type": "stream",
     "text": [
      "Epoch 1/20\n",
      "208/208 [==============================] - 3s 8ms/step - loss: 0.5641 - accuracy: 0.7028 - val_loss: 0.4532 - val_accuracy: 0.7912\n",
      "Epoch 2/20\n",
      "208/208 [==============================] - 1s 6ms/step - loss: 0.4088 - accuracy: 0.8161 - val_loss: 0.3902 - val_accuracy: 0.8252\n",
      "Epoch 3/20\n",
      "208/208 [==============================] - 1s 6ms/step - loss: 0.3593 - accuracy: 0.8425 - val_loss: 0.3734 - val_accuracy: 0.8336\n",
      "Epoch 4/20\n",
      "208/208 [==============================] - 1s 6ms/step - loss: 0.3295 - accuracy: 0.8596 - val_loss: 0.3586 - val_accuracy: 0.8443\n",
      "Epoch 5/20\n",
      "208/208 [==============================] - 1s 6ms/step - loss: 0.3087 - accuracy: 0.8699 - val_loss: 0.3542 - val_accuracy: 0.8477\n",
      "Epoch 6/20\n",
      "208/208 [==============================] - 1s 6ms/step - loss: 0.2918 - accuracy: 0.8788 - val_loss: 0.3553 - val_accuracy: 0.8478\n",
      "Epoch 7/20\n",
      "208/208 [==============================] - 1s 6ms/step - loss: 0.2781 - accuracy: 0.8851 - val_loss: 0.3537 - val_accuracy: 0.8486\n",
      "Epoch 8/20\n",
      "208/208 [==============================] - 1s 6ms/step - loss: 0.2651 - accuracy: 0.8927 - val_loss: 0.3569 - val_accuracy: 0.8486\n",
      "Epoch 9/20\n",
      "208/208 [==============================] - 1s 6ms/step - loss: 0.2542 - accuracy: 0.8980 - val_loss: 0.3614 - val_accuracy: 0.8497\n",
      "Epoch 10/20\n",
      "208/208 [==============================] - 1s 6ms/step - loss: 0.2444 - accuracy: 0.9028 - val_loss: 0.3663 - val_accuracy: 0.8484\n",
      "Epoch 11/20\n",
      "208/208 [==============================] - 1s 6ms/step - loss: 0.2357 - accuracy: 0.9075 - val_loss: 0.3736 - val_accuracy: 0.8490\n",
      "Epoch 12/20\n",
      "208/208 [==============================] - 1s 6ms/step - loss: 0.2255 - accuracy: 0.9125 - val_loss: 0.3747 - val_accuracy: 0.8504\n",
      "Epoch 13/20\n",
      "208/208 [==============================] - 1s 6ms/step - loss: 0.2177 - accuracy: 0.9156 - val_loss: 0.3824 - val_accuracy: 0.8495\n",
      "Epoch 14/20\n",
      "208/208 [==============================] - 1s 6ms/step - loss: 0.2089 - accuracy: 0.9205 - val_loss: 0.3918 - val_accuracy: 0.8478\n",
      "Epoch 15/20\n",
      "208/208 [==============================] - 1s 6ms/step - loss: 0.1999 - accuracy: 0.9253 - val_loss: 0.4072 - val_accuracy: 0.8462\n",
      "Epoch 16/20\n",
      "208/208 [==============================] - 1s 6ms/step - loss: 0.1938 - accuracy: 0.9276 - val_loss: 0.4081 - val_accuracy: 0.8459\n",
      "Epoch 17/20\n",
      "208/208 [==============================] - 1s 6ms/step - loss: 0.1849 - accuracy: 0.9320 - val_loss: 0.4180 - val_accuracy: 0.8448\n",
      "Epoch 18/20\n",
      "208/208 [==============================] - 1s 6ms/step - loss: 0.1774 - accuracy: 0.9350 - val_loss: 0.4396 - val_accuracy: 0.8434\n",
      "Epoch 19/20\n",
      "208/208 [==============================] - 1s 6ms/step - loss: 0.1705 - accuracy: 0.9387 - val_loss: 0.4417 - val_accuracy: 0.8434\n",
      "Epoch 20/20\n",
      "208/208 [==============================] - 1s 6ms/step - loss: 0.1641 - accuracy: 0.9417 - val_loss: 0.4495 - val_accuracy: 0.8433\n"
     ]
    }
   ],
   "source": [
    "model_04.compile(optimizer='adam',\n",
    "              loss='binary_crossentropy',\n",
    "              metrics=['accuracy'])\n",
    "              \n",
    "epochs=20 \n",
    "\n",
    "history = model_04.fit(partial_x_train,\n",
    "                    partial_y_train,\n",
    "                    epochs=epochs,\n",
    "                    batch_size=512,\n",
    "                    validation_data=(x_val, y_val),\n",
    "                    verbose=1)"
   ]
  },
  {
   "cell_type": "code",
   "execution_count": 113,
   "id": "a3a62ed9",
   "metadata": {},
   "outputs": [
    {
     "name": "stdout",
     "output_type": "stream",
     "text": [
      "1537/1537 - 3s - loss: 0.4605 - accuracy: 0.8386\n",
      "[0.4605063498020172, 0.8386394381523132]\n"
     ]
    }
   ],
   "source": [
    "results = model_04.evaluate(X_test,  y_test, verbose=2)\n",
    "\n",
    "print(results)"
   ]
  }
 ],
 "metadata": {
  "kernelspec": {
   "display_name": "Python 3 (ipykernel)",
   "language": "python",
   "name": "python3"
  },
  "language_info": {
   "codemirror_mode": {
    "name": "ipython",
    "version": 3
   },
   "file_extension": ".py",
   "mimetype": "text/x-python",
   "name": "python",
   "nbconvert_exporter": "python",
   "pygments_lexer": "ipython3",
   "version": "3.9.7"
  }
 },
 "nbformat": 4,
 "nbformat_minor": 5
}
